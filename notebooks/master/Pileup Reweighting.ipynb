{
 "cells": [
  {
   "cell_type": "markdown",
   "metadata": {},
   "source": [
    "# Pileup Exercises \n",
    "\n",
    "\n",
    "## Measuring pileup\n",
    "Before we get into mitigating pileup effects, let's first examine measures of pileup in more detail. We will discuss event-by-event variables that can be used to characterize the pileup and this will give us some hints into thinking about how to deal with it.\n",
    "\n",
    "If you are familiar with the ROOT command line (clang) then all of the quantities we want to look at can be computed interactively. However, to move things along we have provided a set of python commands which will display the necessary information."
   ]
  },
  {
   "cell_type": "markdown",
   "metadata": {},
   "source": [
    "## Pileup Reweighting \n",
    "Here we are going to produce a file containing the weights used for pileup reweighting. Please note that this process can take quite a while. Be patient!\n",
    "\n",
    "In the meantime, the first question is asked here, at the beginning of this section, in order to give you a chance to think about the answers before you produce the plots. Ask yourself what pileup reweighting is doing. Try to answer the questions and do the exercise before looking at the answer."
   ]
  },
  {
   "cell_type": "markdown",
   "metadata": {},
   "source": [
    "<font color='red'>Question 1: How large do you expect the pileup weights to be?</font>\n",
    "\n",
    "<font color='red'>Question 2: In what unit will the x-axis be plotted? Another way of asking this is what pileup variable can be measured in both data and MC and is fairly robust?</font><details>\n",
    "<summary><font color='blue'>Show answer...</font></summary>\n",
    "The x-axis is plotted as a function of $\\mu$ as this is a true measurement of pileup (additional interactions) and not just some variable which is correlated with pileup. Other options might have been $N_{PV}$, which has an efficiency which is less than 100%, and $\\rho$, which assumes that the pileup energy density is uniform. We also get different values of $\\rho$ if we measure it for different regions in $\\eta$ (i.e. $|\\eta|<3$ or $|\\eta|<5$).\n",
    "\n",
    "<img src=\"files/Zmumu_npv.png\" alt=\"Zmumu_npv\" width=\"380px\" style=\"float: left;\" />\n",
    "<img src=\"files/Zmumu_rho.png\" alt=\"Zmumu_rho\" width=\"380px\" style=\"float: right;\" />\n",
    "<img src=\"files/Zmumu_npv_nputruth.png\" alt=\"Zmumu_npv_nputruth\" width=\"380px\" style=\"float: left;\" />\n",
    "<img src=\"files/Zmumu_rho_nputruth.png\" alt=\"Zmumu_rho_nputruth\" width=\"380px\" style=\"float: right;\" />\n",
    "</details>"
   ]
  },
  {
   "cell_type": "code",
   "execution_count": null,
   "metadata": {},
   "outputs": [],
   "source": [
    "%%capture\n",
    "%%bash\n",
    "python ../python/pileupCorr.py -j ../data/Cert_271036-284044_13TeV_PromptReco_Collisions16_JSON_NoL1T.txt -l ../data/pileup_latest.txt -b 100"
   ]
  },
  {
   "cell_type": "code",
   "execution_count": null,
   "metadata": {},
   "outputs": [],
   "source": [
    "inf = r.TFile(\"PileupHistograms.root\",\"READ\")\n",
    "from Analysis.JMEDAS.pileupCorr import *\n",
    "c = MakeCanvas(filename=\"PileupHistograms.root\")\n",
    "c.Draw()"
   ]
  }
 ],
 "metadata": {
  "kernelspec": {
   "display_name": "hats-jec",
   "language": "python",
   "name": "hats-jec"
  },
  "language_info": {
   "codemirror_mode": {
    "name": "ipython",
    "version": 2
   },
   "file_extension": ".py",
   "mimetype": "text/x-python",
   "name": "python",
   "nbconvert_exporter": "python",
   "pygments_lexer": "ipython2",
   "version": "2.7.15+"
  }
 },
 "nbformat": 4,
 "nbformat_minor": 2
}
