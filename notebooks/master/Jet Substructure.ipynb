{
 "cells": [
  {
   "cell_type": "markdown",
   "metadata": {},
   "source": [
    "# Jet Substructure"
   ]
  },
  {
   "cell_type": "markdown",
   "metadata": {},
   "source": [
    "Because boosted jets represent the hadronic products of a heavy particle produced with high momentum, some tools have been developed to study the internal structure of these jets. This topic is usually called Jet Substructure. \n",
    "\n",
    "Jet substructure algorithms can be divided into three main tools:\n",
    " * **grooming algorithms** attempt to reduce the impact of *soft* contributions to clustering sequence by adding some other criteria. Examples of these algorimths are softdrop, trimming, pruning.\n",
    " * **subtructure variables** are observables that try to quantify how many cores or prongs can be identify within the structure of the boosted jet. Examples of these variables are n-subjetiness or energy correlation functions.\n",
    " * **taggers** are more sofisticated algorithms that attempt to identify the origin of the boosted jet. Currently taggers are based on sofisticated machine-learning techniques which try to use as much information as possible in order to efficiency identify boosted W/Z/Higgs/top jets. Examples of these taggers in CMS are deepAK8/ParticleNet or deepDoubleB.\n",
    " \n",
    "For further reading, several measurements have been performed about jet substructure:\n",
    " * [Studies of jet mass in dijet and W/Z+jet events](http://arxiv.org/abs/1303.4811) (CMS).\n",
    " * [Jet mass and substructure of inclusive jets in sqrt(s) = 7 TeV pp collisions with the ATLAS experiment](http://arxiv.org/abs/1203.4606) (ATLAS).\n",
    " * [Theory slides](http://www.hri.res.in/~sangam/sangam18/talks/Marzani-2.pdf) \n",
    " * [More theory slides]( http://indico.hep.manchester.ac.uk/getFile.py/access?contribId=14&resId=0&materialId=slides&confId=4413)\n",
    " * [Talk from Phil Harris](https://web.pa.msu.edu/seminars/hep_seminars/abstracts/2018/Harris-HEPSeminar-Slides-4172018.pdf) on searching for boosted $W$ bosons.\n",
    " \n",
    " In this part of the tutorial, we will compare different subtructure algorithms as well as some usually subtructure variables."
   ]
  },
  {
   "cell_type": "code",
   "execution_count": null,
   "metadata": {},
   "outputs": [],
   "source": [
    "### RUN THIS CELL ONLY IF YOU ARE USING SWAN \n",
    "import os\n",
    "\n",
    "##### REMEMBER TO MANUALLY COPY THE PROXY TO YOUR CERNBOX FOLDER AND TO MODIFY THE NEXT LINE\n",
    "os.environ['X509_USER_PROXY'] = '/eos/home-X/Y/x509up_u0000'\n",
    "if os.path.isfile(os.environ['X509_USER_PROXY']): pass\n",
    "else: print(\"os.environ['X509_USER_PROXY'] \",os.environ['X509_USER_PROXY'])\n",
    "os.environ['X509_CERT_DIR'] = '/cvmfs/cms.cern.ch/grid/etc/grid-security/certificates'\n",
    "os.environ['X509_VOMS_DIR'] = '/cvmfs/cms.cern.ch/grid/etc/grid-security/vomsdir'"
   ]
  },
  {
   "cell_type": "markdown",
   "metadata": {},
   "source": [
    "The code we will use `$CMSSW_BASE/src/Analysis/JMEDAS/scripts/jmedas_make_histograms.py` is a python-based script accessing miniAOD information. Additionally, the code also fills different histograms that we will compare in the next steps of the tutorial. \n",
    "\n",
    "The content of the script can be seen [here](https://github.com/cms-jet/JMEDAS/blob/DASSep2020/scripts/jmedas_make_histograms.py). Also, keep in mind that next step can take some minutes."
   ]
  },
  {
   "cell_type": "code",
   "execution_count": null,
   "metadata": {},
   "outputs": [],
   "source": [
    "%%bash\n",
    "python $CMSSW_BASE/src/Analysis/JMEDAS/scripts/jmedas_make_histograms.py --files=$CMSSW_BASE/src/Analysis/JMEDAS/data/MiniAODs/RunIIFall17MiniAODv2/rsgluon_ttbar_3000GeV.txt --outname=$CMSSW_BASE/src/Analysis/JMEDAS/notebooks/files/rsgluon_ttbar_3000GeV.root --maxevents=2000 --maxFiles 10 --maxjets=2 --correctJets Fall17_17Nov2017_V32_MC\n",
    "python $CMSSW_BASE/src/Analysis/JMEDAS/scripts/jmedas_make_histograms.py --files=$CMSSW_BASE/src/Analysis/JMEDAS/data/MiniAODs/RunIIFall17MiniAODv2/ttjets.txt --outname=$CMSSW_BASE/src/Analysis/JMEDAS/notebooks/files/ttjets.root --maxevents=2000 --maxjets=6 --maxFiles 5"
   ]
  },
  {
   "cell_type": "markdown",
   "metadata": {},
   "source": [
    "## Grooming and PU removal algoritms\n",
    "\n",
    "Now, let's compare the jet masses for ungroomed, pruned, soft drop (SD), PUPPI, and SD+PUPPI:"
   ]
  },
  {
   "cell_type": "code",
   "execution_count": null,
   "metadata": {},
   "outputs": [],
   "source": [
    "import ROOT\n",
    "%jsroot on    \n",
    "\n",
    "ROOT.gStyle.SetOptStat(0)\n",
    "ROOT.gStyle.SetOptTitle(0)\n",
    "f = ROOT.TFile(\"$CMSSW_BASE/src/Analysis/JMEDAS/notebooks/files/rsgluon_ttbar_3000GeV.root\")\n",
    "\n",
    "h_mAK8   = f.Get(\"h_mAK8\")\n",
    "h_msoftdropAK8 = f.Get(\"h_msoftdropAK8\")\n",
    "h_mprunedAK8   = f.Get(\"h_mprunedAK8\")\n",
    "h_mpuppiAK8 = f.Get(\"h_mpuppiAK8\")\n",
    "h_mSDpuppiAK8 = f.Get(\"h_mSDpuppiAK8\")\n",
    "\n",
    "h_msoftdropAK8.SetLineColor(2)\n",
    "h_mprunedAK8.SetLineColor(4) \n",
    "h_msoftdropAK8.SetLineColor(2)\n",
    "h_mprunedAK8.SetLineStyle(3) \n",
    "h_mpuppiAK8.SetLineColor(ROOT.kGreen+3)\n",
    "h_mSDpuppiAK8.SetLineColor(ROOT.kOrange+3)\n",
    "\n",
    "leg = ROOT.TLegend(0.6, 0.6, 0.88, 0.88)\n",
    "leg.SetFillColor(0)\n",
    "leg.SetBorderSize(0)\n",
    "leg.AddEntry( h_mAK8, \"Ungroomed\", 'l')\n",
    "leg.AddEntry( h_msoftdropAK8, \"Soft Drop\", 'l')\n",
    "leg.AddEntry( h_mprunedAK8, \"Pruned\", 'l')\n",
    "leg.AddEntry( h_mpuppiAK8, \"PUPPI\", 'l')\n",
    "leg.AddEntry( h_mSDpuppiAK8, \"PUPPI+SD\", 'l')\n",
    "\n",
    "c_mass = ROOT.TCanvas('c_mass', 'c_mass')\n",
    "h_mprunedAK8.SetMaximum(500)\n",
    "h_mprunedAK8.Draw()\n",
    "#h_mprunedAK8.GetXaxis().SetRangeUser(0, 400)\n",
    "#h_mprunedAK8.GetYaxis().SetRangeUser(0, 500)\n",
    "h_msoftdropAK8.Draw(\"same\") \n",
    "h_mAK8.Draw(\"same\") \n",
    "h_mpuppiAK8.Draw(\"same\")\n",
    "h_mSDpuppiAK8.Draw(\"same\")\n",
    "#h_mprunedAK8.SetMaximum(h_msoftdropAK8.GetMaximum()*1.2)\n",
    "\n",
    "leg.Draw()\n",
    "\n",
    "c_mass.Draw()\n"
   ]
  },
  {
   "cell_type": "markdown",
   "metadata": {},
   "source": [
    "Notice that the previous plot is interactive. Click on it or move your mouse to zoom in or out.\n",
    "\n",
    "<details>\n",
    "<summary>\n",
    "    <font color='blue'>The histogram should look like this:</font>\n",
    "</summary>\n",
    "<img src=\"../files/ex5_rsg_jetmass.png\" width=400px/>\n",
    "</details>\n",
    "Note that the histogram has two peaks. What do these correspond to? How do the algorithms affect the relative size of the two populations?"
   ]
  },
  {
   "cell_type": "markdown",
   "metadata": {},
   "source": [
    "# Substructure Variables\n",
    "\n",
    "Now, let's compare the different subtructure variables between two different samples. Using the histograms that you created in the previous steps, the next cell is just a function to create comparison plots."
   ]
  },
  {
   "cell_type": "code",
   "execution_count": null,
   "metadata": {},
   "outputs": [],
   "source": [
    "canvas = {}\n",
    "f1 = ROOT.TFile(\"$CMSSW_BASE/src/Analysis/JMEDAS/notebooks/files/ttjets.root\")\n",
    "f2 = ROOT.TFile(\"$CMSSW_BASE/src/Analysis/JMEDAS/notebooks/files/rsgluon_ttbar_3000GeV.root\")\n",
    "leg = ROOT.TLegend(0.15, 0.75, 0.4, 0.85)\n",
    "leg.SetFillColor(0)\n",
    "leg.SetBorderSize(0)\n",
    "\n",
    "def compareHistogram( variable ):\n",
    "    \n",
    "    h1 = f1.Get(\"h_\"+variable)\n",
    "    h2 = f2.Get(\"h_\"+variable)\n",
    "\n",
    "    h1.SetLineColor(1)\n",
    "    h1.Rebin(5)\n",
    "    h1.Scale( 1/ h1.Integral() )\n",
    "    h2.SetLineColor(2)\n",
    "    h2.Rebin(5)\n",
    "    h2.Scale( 1/ h2.Integral() )\n",
    "    h1.SetMaximum( 1.2*max([h1.GetMaximum(), h2.GetMaximum()]) )\n",
    "    \n",
    "    leg.Clear()\n",
    "    leg.AddEntry( h1, \"t#bar{t}\", 'l')\n",
    "    leg.AddEntry( h2, \"RS KK Gluon\", 'l')\n",
    "    \n",
    "    canvas[variable] = ROOT.TCanvas(variable, variable) \n",
    "    \n",
    "    \n",
    "    h1.DrawNormalized('hist')\n",
    "    h2.DrawNormalized(\"hist same\")\n",
    "    \n",
    "    leg.Draw()\n",
    "    canvas[variable].Draw()\n",
    "    del h1, h2"
   ]
  },
  {
   "cell_type": "markdown",
   "metadata": {},
   "source": [
    "Let's start with n-subjetiness ratios. The variable $\\tau_N$ gives a sense of how many N prongs or cores can be find inside the jet. It is known that the n-subjetiness variables itself ($\\tau_{N}$) do not provide good discrimination power, but its ratios do. Then, a $\\tau_{MN} = \\dfrac{\\tau_M}{\\tau_N}$ basically tests if the jet is more M-prong compared to N-prong. For instance, we expect 2 prongs for boosted jets originated from hadronic Ws, while we expect 1 prongs for high-pt jets from QCD multijet processes.\n",
    "\n",
    "Let's compare one of the most common nsubjetiness ratio $\\tau_{21}$:"
   ]
  },
  {
   "cell_type": "code",
   "execution_count": null,
   "metadata": {
    "scrolled": false
   },
   "outputs": [],
   "source": [
    "compareHistogram( 'tau21AK8' )"
   ]
  },
  {
   "cell_type": "markdown",
   "metadata": {},
   "source": [
    "What can you say about the two histograms? Is $\\tau_{21}$ telling you something about the nature of the boosted jets selected?\n",
    "\n",
    "Let's compare now $\\tau_{32}$:"
   ]
  },
  {
   "cell_type": "code",
   "execution_count": null,
   "metadata": {},
   "outputs": [],
   "source": [
    "compareHistogram( 'tau32AK8' )"
   ]
  },
  {
   "cell_type": "markdown",
   "metadata": {},
   "source": [
    "What can you say about the two histograms? Is $\\tau_{32}$ telling you something about the nature of the boosted jets selected?\n",
    "\n",
    "Another subtructure variable commonly used is the energy correlation function $N2$. Similarly than $\\tau_{21}$, $N2$ tests if the boosted jet is compatible with a 2-prong jet hypothesis. Let's compare now $N2$ and $N3$:"
   ]
  },
  {
   "cell_type": "code",
   "execution_count": null,
   "metadata": {},
   "outputs": [],
   "source": [
    "compareHistogram( 'ak8_N2_beta1' )"
   ]
  },
  {
   "cell_type": "code",
   "execution_count": null,
   "metadata": {},
   "outputs": [],
   "source": [
    "compareHistogram( 'ak8_N3_beta1' )"
   ]
  },
  {
   "cell_type": "markdown",
   "metadata": {},
   "source": [
    "What can you say about the two histograms? Are $N2$ and $N3$ telling you something about the nature of the boosted jets selected?"
   ]
  },
  {
   "cell_type": "markdown",
   "metadata": {},
   "source": [
    "# $\\rho$ parameter\n",
    "A useful variable for massive, fat jets is the QCD scaling parameter $\\rho$, defined as:\n",
    "\n",
    "$\\rho=m^2/(p_{\\mathrm{T}}R)^2$.\n",
    "\n",
    "(Sometimes $\\rho$ is defined as the logarithm of this quantity). One useful feature of this variable is that QCD jet mass grows with $p_{\\mathrm{T}}$, i.e. the two quantities are strongly correlated, while $\\rho$ is much less correlated with $p_{\\mathrm{T}}$.\n"
   ]
  },
  {
   "cell_type": "code",
   "execution_count": null,
   "metadata": {},
   "outputs": [],
   "source": [
    "compareHistogram( 'rhoRatioAK8' )"
   ]
  },
  {
   "cell_type": "code",
   "execution_count": null,
   "metadata": {},
   "outputs": [],
   "source": [
    "compareHistogram( 'logrhoRatioAK8' )"
   ]
  },
  {
   "cell_type": "markdown",
   "metadata": {},
   "source": [
    "In which cases do you think the $\\rho$ variable can be used?"
   ]
  },
  {
   "cell_type": "code",
   "execution_count": null,
   "metadata": {},
   "outputs": [],
   "source": []
  }
 ],
 "metadata": {
  "kernelspec": {
   "display_name": "hats-jec",
   "language": "python",
   "name": "hats-jec"
  },
  "language_info": {
   "codemirror_mode": {
    "name": "ipython",
    "version": 2
   },
   "file_extension": ".py",
   "mimetype": "text/x-python",
   "name": "python",
   "nbconvert_exporter": "python",
   "pygments_lexer": "ipython2",
   "version": "2.7.15+"
  }
 },
 "nbformat": 4,
 "nbformat_minor": 2
}
