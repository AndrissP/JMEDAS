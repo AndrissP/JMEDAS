{
 "cells": [
  {
   "cell_type": "markdown",
   "metadata": {},
   "source": [
    "# Jet Basics\n",
    "\n",
    "Welcome to the jets short exercise! You should have already run the setup-libraries.ipynb notebook to setup your environment. Run the following code to start this session:"
   ]
  },
  {
   "cell_type": "code",
   "execution_count": 1,
   "metadata": {},
   "outputs": [
    {
     "name": "stdout",
     "output_type": "stream",
     "text": [
      "Welcome to JupyROOT 6.14/09\n"
     ]
    }
   ],
   "source": [
    "import os\n",
    "import sys\n",
    "\n",
    "# Loads the ROOT environment and style\n",
    "import ROOT\n",
    "from collections import OrderedDict\n",
    "\n",
    "# Imports for running locally\n",
    "sys.path.append(os.path.expandvars(\"$CMSSW_BASE/src/Analysis/JMEDAS/python\"))"
   ]
  },
  {
   "cell_type": "markdown",
   "metadata": {},
   "source": [
    "In the cell below modify the line with your grid certificate proxy location according to the instructions in the readme."
   ]
  },
  {
   "cell_type": "code",
   "execution_count": 4,
   "metadata": {},
   "outputs": [
    {
     "name": "stdout",
     "output_type": "stream",
     "text": [
      "Proxy was not found. Check if you correctly specified the loacation of the proxy.\n",
      "('The location given: ', '/eos/home-X/Y/x509up_u0000')\n"
     ]
    }
   ],
   "source": [
    "### RUN THIS CELL ONLY IF YOU ARE USING SWAN \n",
    "\n",
    "##### REMEMBER TO MANUALLY COPY THE PROXY TO YOUR CERNBOX FOLDER AND TO MODIFY THE NEXT LINE\n",
    "os.environ['X509_USER_PROXY'] = '/eos/home-X/Y/x509up_u0000'\n",
    "if os.path.isfile(os.environ['X509_USER_PROXY']):\n",
    "    print(\"Found proxy at {}\".format(os.environ['X509_USER_PROXY']))\n",
    "else:\n",
    "    print(\"Proxy was not found. Check if you correctly specified the loacation of the proxy.\")\n",
    "    print(\"The location given: \",os.environ['X509_USER_PROXY'])\n",
    "    \n",
    "os.environ['X509_CERT_DIR'] = '/cvmfs/cms.cern.ch/grid/etc/grid-security/certificates'\n",
    "os.environ['X509_VOMS_DIR'] = '/cvmfs/cms.cern.ch/grid/etc/grid-security/vomsdir'\n",
    "\n"
   ]
  },
  {
   "cell_type": "markdown",
   "metadata": {},
   "source": [
    "This preliminary exercise will illustrate some of the basic properties of jets in CMS. Let's start by running the histogram-making code on some $t\\bar{t}$ MC. While the script is running, take a look at the script and make sure you understand what it's doing."
   ]
  },
  {
   "cell_type": "code",
   "execution_count": null,
   "metadata": {},
   "outputs": [],
   "source": [
    "%%bash\n",
    "python $CMSSW_BASE/src/Analysis/JMEDAS/scripts/jmedas_make_histograms.py --files=$CMSSW_BASE/src/Analysis/JMEDAS/data/MiniAODs/RunIIFall17MiniAODv2/ttjets2023.txt --outname=$CMSSW_BASE/src/Analysis/JMEDAS/notebooks/files/ttjets.root --maxevents=2000 --maxjets=6 --maxFiles 2\n",
    "\n"
   ]
  },
  {
   "cell_type": "markdown",
   "metadata": {},
   "source": [
    "Now let's plot the resulting histograms. Take a look at the simple plotting script below and execute it with"
   ]
  },
  {
   "cell_type": "code",
   "execution_count": null,
   "metadata": {},
   "outputs": [],
   "source": [
    "\n",
    "\n",
    "# Disable pop-up windows for smoother running over ssh\n",
    "ROOT.gROOT.SetBatch(True)\n",
    "\n",
    "f = ROOT.TFile(\"$CMSSW_BASE/src/Analysis/JMEDAS/notebooks/files/ttjets.root\")\n",
    "\n",
    "h_ptAK4   = f.Get(\"h_ptAK4\")\n",
    "h_etaAK4  = f.Get(\"h_etaAK4\")\n",
    "h_phiAK4  = f.Get(\"h_phiAK4\")\n",
    "h_mAK4    = f.Get(\"h_mAK4\")\n",
    "\n",
    "c = ROOT.TCanvas('c', 'c', 800, 600)\n",
    "\n",
    "c.Divide(2,2)\n",
    "c.cd(1)\n",
    "ROOT.gPad.SetLogy()\n",
    "h_ptAK4.Draw()\n",
    "h_ptAK4.GetXaxis().SetRangeUser(0, 1000)\n",
    "c.cd(2)\n",
    "h_etaAK4.Draw()\n",
    "c.cd(3)\n",
    "h_phiAK4.Draw()\n",
    "h_phiAK4.SetMinimum(0)\n",
    "c.cd(4)\n",
    "ROOT.gPad.SetLogy()\n",
    "h_mAK4.Draw()\n",
    "h_mAK4.GetXaxis().SetRangeUser(0, 200)\n",
    "ROOT.gPad.SetLogy()\n",
    "\n",
    "c.Draw()\n",
    "c.SaveAs('plots1.pdf', 'pdf')\n"
   ]
  },
  {
   "cell_type": "markdown",
   "metadata": {},
   "source": [
    "You can open the produced pdf file with evince:\n"
   ]
  },
  {
   "cell_type": "code",
   "execution_count": null,
   "metadata": {},
   "outputs": [],
   "source": [
    "evince plots1.pdf&\n",
    "\n"
   ]
  },
  {
   "cell_type": "markdown",
   "metadata": {},
   "source": [
    "Your histograms from the script should look similar to the four plots shown below. What about AK8 jets? Add the corresponding histograms to the same canvases, they are already filled and available (draw option 'same', line color 'ROOT.kRed').\n",
    "Open basics.py with a code editor, such as gedit, nano or vim, add the needed lines for AK8 and reproduce the plots.\n",
    "\n"
   ]
  },
  {
   "cell_type": "code",
   "execution_count": null,
   "metadata": {},
   "outputs": [],
   "source": [
    "gedit basics.py\n"
   ]
  },
  {
   "cell_type": "markdown",
   "metadata": {},
   "source": [
    "![Basic jet kinematics](../files/plots1.png)"
   ]
  },
  {
   "cell_type": "code",
   "execution_count": null,
   "metadata": {},
   "outputs": [],
   "source": []
  }
 ],
 "metadata": {
  "kernelspec": {
   "display_name": "hats-jec",
   "language": "python",
   "name": "hats-jec"
  },
  "language_info": {
   "codemirror_mode": {
    "name": "ipython",
    "version": 2
   },
   "file_extension": ".py",
   "mimetype": "text/x-python",
   "name": "python",
   "nbconvert_exporter": "python",
   "pygments_lexer": "ipython2",
   "version": "2.7.15+"
  }
 },
 "nbformat": 4,
 "nbformat_minor": 2
}
