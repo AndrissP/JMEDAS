{
 "cells": [
  {
   "cell_type": "markdown",
   "metadata": {},
   "source": [
    "# W and top tagging\n",
    "\n",
    "In this part of the tutorial, we will look at how different substructure algorithms can be used to identify jets originating from boosted W's and tops. Specifically, we'll see how these identification tools are used to separate these boosted jets from those originating from Standard Model QCD, a dominant process at the LHC.\n",
    "\n",
    "Run the following two cells to produce the relevant histograms from the SM ttbar, RS KK gluon, and QCD samples. It may take a few minutes - go ahead a grab a coffee while it runs."
   ]
  },
  {
   "cell_type": "code",
   "execution_count": 1,
   "metadata": {},
   "outputs": [],
   "source": [
    "### RUN THIS CELL ONLY IF YOU ARE USING SWAN \n",
    "import os\n",
    "\n",
    "##### REMEMBER TO MANUALLY COPY THE PROXY TO YOUR CERNBOX FOLDER AND TO MODIFY THE NEXT LINE\n",
    "os.environ['X509_USER_PROXY'] = '/eos/home-X/Y/tmp/x509up_u0000'\n",
    "if os.path.isfile(os.environ['X509_USER_PROXY']): pass\n",
    "else: print(\"os.environ['X509_USER_PROXY'] \",os.environ['X509_USER_PROXY'])\n",
    "os.environ['X509_CERT_DIR'] = '/cvmfs/cms.cern.ch/grid/etc/grid-security/certificates'\n",
    "os.environ['X509_VOMS_DIR'] = '/cvmfs/cms.cern.ch/grid/etc/grid-security/vomsdir'"
   ]
  },
  {
   "cell_type": "code",
   "execution_count": 7,
   "metadata": {},
   "outputs": [
    {
     "name": "stdout",
     "output_type": "stream",
     "text": [
      "Added root://cmsxrootd.fnal.gov//store/mc/RunIIFall17MiniAODv2/QCD_Pt_300to470_TuneCP5_13TeV_pythia8/MINIAODSIM/PU2017_12Apr2018_94X_mc2017_realistic_v14-v1/70000/00389785-4C42-E811-A376-0025905C5438.root\n",
      "Added root://cmsxrootd.fnal.gov//store/mc/RunIIFall17MiniAODv2/QCD_Pt_300to470_TuneCP5_13TeV_pythia8/MINIAODSIM/PU2017_12Apr2018_94X_mc2017_realistic_v14-v1/70000/006D085A-C341-E811-A61C-0025904C637E.root\n",
      "Added root://cmsxrootd.fnal.gov//store/mc/RunIIFall17MiniAODv2/QCD_Pt_300to470_TuneCP5_13TeV_pythia8/MINIAODSIM/PU2017_12Apr2018_94X_mc2017_realistic_v14-v1/70000/02D51001-5E42-E811-ABAC-002590D9D8AA.root\n",
      "Added root://cmsxrootd.fnal.gov//store/mc/RunIIFall17MiniAODv2/QCD_Pt_300to470_TuneCP5_13TeV_pythia8/MINIAODSIM/PU2017_12Apr2018_94X_mc2017_realistic_v14-v1/70000/0418D8CE-5B42-E811-A2AF-0025905C2C86.root\n",
      "Added root://cmsxrootd.fnal.gov//store/mc/RunIIFall17MiniAODv2/QCD_Pt_300to470_TuneCP5_13TeV_pythia8/MINIAODSIM/PU2017_12Apr2018_94X_mc2017_realistic_v14-v1/70000/04476833-E341-E811-ABED-002590FD5A3A.root\n",
      "Added root://cmsxrootd.fnal.gov//store/mc/RunIIFall17MiniAODv2/QCD_Pt_300to470_TuneCP5_13TeV_pythia8/MINIAODSIM/PU2017_12Apr2018_94X_mc2017_realistic_v14-v1/70000/04D9B120-7442-E811-AA44-002590791DA2.root\n",
      "Added root://cmsxrootd.fnal.gov//store/mc/RunIIFall17MiniAODv2/QCD_Pt_300to470_TuneCP5_13TeV_pythia8/MINIAODSIM/PU2017_12Apr2018_94X_mc2017_realistic_v14-v1/70000/04F99997-5942-E811-9E59-0CC47AA478BE.root\n",
      "Added root://cmsxrootd.fnal.gov//store/mc/RunIIFall17MiniAODv2/QCD_Pt_300to470_TuneCP5_13TeV_pythia8/MINIAODSIM/PU2017_12Apr2018_94X_mc2017_realistic_v14-v1/70000/06455221-E841-E811-8462-0025905C42F4.root\n",
      "Added root://cmsxrootd.fnal.gov//store/mc/RunIIFall17MiniAODv2/QCD_Pt_300to470_TuneCP5_13TeV_pythia8/MINIAODSIM/PU2017_12Apr2018_94X_mc2017_realistic_v14-v1/70000/06586FDE-5E42-E811-815A-002590D9D88C.root\n",
      "Added root://cmsxrootd.fnal.gov//store/mc/RunIIFall17MiniAODv2/QCD_Pt_300to470_TuneCP5_13TeV_pythia8/MINIAODSIM/PU2017_12Apr2018_94X_mc2017_realistic_v14-v1/70000/06B21632-E241-E811-A909-0025905C9724.root\n",
      "Processing file root://cmsxrootd.fnal.gov//store/mc/RunIIFall17MiniAODv2/QCD_Pt_300to470_TuneCP5_13TeV_pythia8/MINIAODSIM/PU2017_12Apr2018_94X_mc2017_realistic_v14-v1/70000/00389785-4C42-E811-A376-0025905C5438.root\n",
      "    ---> Event 1000\n",
      "    ---> Event 2000\n",
      "Processing file root://cmsxrootd.fnal.gov//store/mc/RunIIFall17MiniAODv2/QCD_Pt_300to470_TuneCP5_13TeV_pythia8/MINIAODSIM/PU2017_12Apr2018_94X_mc2017_realistic_v14-v1/70000/006D085A-C341-E811-A61C-0025904C637E.root\n"
     ]
    }
   ],
   "source": [
    "%%bash\n",
    "python $CMSSW_BASE/src/Analysis/JMEDAS/scripts/jmedas_make_histograms.py --files=$CMSSW_BASE/src/Analysis/JMEDAS/data/MiniAODs/RunIIFall17MiniAODv2/ttjets.txt --outname=$CMSSW_BASE/src/Analysis/JMEDAS/notebooks/files/ttjets.root --maxevents=2000 --maxFiles 10 --maxjets=6\n",
    "python $CMSSW_BASE/src/Analysis/JMEDAS/scripts/jmedas_make_histograms.py --files=$CMSSW_BASE/src/Analysis/JMEDAS/data/MiniAODs/RunIIFall17MiniAODv2/rsgluon_ttbar_3000GeV.txt --outname=$CMSSW_BASE/src/Analysis/JMEDAS/notebooks/files/rsgluon_ttbar_3TeV.root --maxevents=2000 --maxFiles 10 --maxjets=6\n",
    "python $CMSSW_BASE/src/Analysis/JMEDAS/scripts/jmedas_make_histograms.py --files=$CMSSW_BASE/src/Analysis/JMEDAS/data/MiniAODs/RunIIFall17MiniAODv2/QCD_Pt_300to470.txt --outname=$CMSSW_BASE/src/Analysis/JMEDAS/notebooks/files/QCD_Pt_300to470.root --maxevents=2000 --maxFiles 10 --maxjets=6"
   ]
  },
  {
   "cell_type": "markdown",
   "metadata": {},
   "source": [
    "# W Tagging\n",
    "\n",
    "We will now investigate how to identify W bosons using the substructure techniques we've learned. \n",
    "\n",
    "Compare the tau2 / tau1 ratio for the AK8 jets from Standard Model top quarks to those from the QCD sample:\n",
    "\n",
    "(Notice that this plot is interactive. Click on it or move your mouse to zoom in or out. All other plots will be similarly interactive.)\n",
    "<details>\n",
    "<summary>\n",
    "    <font color='blue'>Show answer...</font>\n",
    "</summary>\n",
    "The plot should look like this:\n",
    "\n",
    "<img src=\"..//files/ak8tau21_topvqcd.png\" width=400px/>\n",
    "</details>"
   ]
  },
  {
   "cell_type": "code",
   "execution_count": 45,
   "metadata": {
    "scrolled": false
   },
   "outputs": [
    {
     "name": "stderr",
     "output_type": "stream",
     "text": [
      "Warning in <TCanvas::Constructor>: Deleting canvas with same name: c_tau21\n"
     ]
    },
    {
     "data": {
      "text/html": [
       "\n",
       "<div id=\"root_plot_35\"\n",
       "     style=\"width: 696px; height: 472px\">\n",
       "</div>\n",
       "\n",
       "<script>\n",
       " requirejs.config({\n",
       "     paths: {\n",
       "       'JSRootCore' : 'https://root.cern.ch/js/notebook//scripts/JSRootCore',\n",
       "     }\n",
       "   });\n",
       " require(['JSRootCore'],\n",
       "     function(Core) {\n",
       "       var obj = Core.JSONR_unref({\"_typename\":\"TCanvas\",\"fUniqueID\":0,\"fBits\":53673992,\"fLineColor\":1,\"fLineStyle\":1,\"fLineWidth\":1,\"fFillColor\":0,\"fFillStyle\":1001,\"fLeftMargin\":0.1,\"fRightMargin\":0.1,\"fBottomMargin\":0.1,\"fTopMargin\":0.1,\"fXfile\":2,\"fYfile\":2,\"fAfile\":1,\"fXstat\":0.99,\"fYstat\":0.99,\"fAstat\":2,\"fFrameFillColor\":0,\"fFrameLineColor\":1,\"fFrameFillStyle\":1001,\"fFrameLineStyle\":1,\"fFrameLineWidth\":1,\"fFrameBorderSize\":1,\"fFrameBorderMode\":0,\"fX1\":-0.125000009313226,\"fY1\":-0.00400090455782819,\"fX2\":1.12500000931323,\"fY2\":0.0360081386357288,\"fXtoAbsPixelk\":69.6000541484835,\"fXtoPixelk\":69.6000541484835,\"fXtoPixel\":556.799991703033,\"fYtoAbsPixelk\":424.800047186661,\"fYtoPixelk\":424.800047186661,\"fYtoPixel\":-11797.3328608871,\"fUtoAbsPixelk\":5e-5,\"fUtoPixelk\":5e-5,\"fUtoPixel\":696,\"fVtoAbsPixelk\":472.00005,\"fVtoPixelk\":472,\"fVtoPixel\":-472,\"fAbsPixeltoXk\":-0.125000009313226,\"fPixeltoXk\":-0.125000009313226,\"fPixeltoX\":0.0017959770382564,\"fAbsPixeltoYk\":0.0360081386357288,\"fPixeltoYk\":-0.00400090455782819,\"fPixeltoY\":-8.4764922020248e-5,\"fXlowNDC\":0,\"fYlowNDC\":0,\"fXUpNDC\":0,\"fYUpNDC\":0,\"fWNDC\":1,\"fHNDC\":1,\"fAbsXlowNDC\":0,\"fAbsYlowNDC\":0,\"fAbsWNDC\":1,\"fAbsHNDC\":1,\"fUxmin\":0,\"fUymin\":0,\"fUxmax\":1,\"fUymax\":0.0320072340779006,\"fTheta\":30,\"fPhi\":30,\"fAspectRatio\":0,\"fNumber\":0,\"fTickx\":0,\"fTicky\":0,\"fLogx\":0,\"fLogy\":0,\"fLogz\":0,\"fPadPaint\":0,\"fCrosshair\":0,\"fCrosshairPos\":0,\"fBorderSize\":2,\"fBorderMode\":0,\"fModified\":false,\"fGridx\":false,\"fGridy\":false,\"fAbsCoord\":false,\"fEditable\":true,\"fFixedAspectRatio\":false,\"fPrimitives\":{\"_typename\":\"TList\",\"name\":\"TList\",\"arr\":[{\"_typename\":\"TFrame\",\"fUniqueID\":0,\"fBits\":50331656,\"fLineColor\":1,\"fLineStyle\":1,\"fLineWidth\":1,\"fFillColor\":0,\"fFillStyle\":1001,\"fX1\":0,\"fY1\":0,\"fX2\":1,\"fY2\":0.0320072340779006,\"fBorderSize\":1,\"fBorderMode\":0},{\"_typename\":\"TH1F\",\"fUniqueID\":0,\"fBits\":50331656,\"fName\":\"h_tau21AK8\",\"fTitle\":\"AK8 Jet #tau_{2} \\/ #tau_{1}\",\"fLineColor\":1,\"fLineStyle\":1,\"fLineWidth\":1,\"fFillColor\":0,\"fFillStyle\":1001,\"fMarkerColor\":1,\"fMarkerStyle\":1,\"fMarkerSize\":1,\"fNcells\":102,\"fXaxis\":{\"_typename\":\"TAxis\",\"fUniqueID\":0,\"fBits\":50331648,\"fName\":\"xaxis\",\"fTitle\":\"#tau_{21}\",\"fNdivisions\":510,\"fAxisColor\":1,\"fLabelColor\":1,\"fLabelFont\":42,\"fLabelOffset\":0.005,\"fLabelSize\":0.035,\"fTickLength\":0.03,\"fTitleOffset\":1,\"fTitleSize\":0.035,\"fTitleColor\":1,\"fTitleFont\":42,\"fNbins\":100,\"fXmin\":0,\"fXmax\":1,\"fXbins\":[],\"fFirst\":0,\"fLast\":0,\"fBits2\":0,\"fTimeDisplay\":false,\"fTimeFormat\":\"\",\"fLabels\":null,\"fModLabs\":null},\"fYaxis\":{\"_typename\":\"TAxis\",\"fUniqueID\":0,\"fBits\":50331656,\"fName\":\"yaxis\",\"fTitle\":\"\",\"fNdivisions\":510,\"fAxisColor\":1,\"fLabelColor\":1,\"fLabelFont\":42,\"fLabelOffset\":0.005,\"fLabelSize\":0.035,\"fTickLength\":0.03,\"fTitleOffset\":0,\"fTitleSize\":0.035,\"fTitleColor\":1,\"fTitleFont\":42,\"fNbins\":1,\"fXmin\":0,\"fXmax\":1,\"fXbins\":[],\"fFirst\":0,\"fLast\":0,\"fBits2\":0,\"fTimeDisplay\":false,\"fTimeFormat\":\"\",\"fLabels\":null,\"fModLabs\":null},\"fZaxis\":{\"_typename\":\"TAxis\",\"fUniqueID\":0,\"fBits\":50331648,\"fName\":\"zaxis\",\"fTitle\":\"\",\"fNdivisions\":510,\"fAxisColor\":1,\"fLabelColor\":1,\"fLabelFont\":42,\"fLabelOffset\":0.005,\"fLabelSize\":0.035,\"fTickLength\":0.03,\"fTitleOffset\":1,\"fTitleSize\":0.035,\"fTitleColor\":1,\"fTitleFont\":42,\"fNbins\":1,\"fXmin\":0,\"fXmax\":1,\"fXbins\":[],\"fFirst\":0,\"fLast\":0,\"fBits2\":0,\"fTimeDisplay\":false,\"fTimeFormat\":\"\",\"fLabels\":null,\"fModLabs\":null},\"fBarOffset\":0,\"fBarWidth\":1000,\"fEntries\":483,\"fTsumw\":483,\"fTsumw2\":483,\"fTsumwx\":228.676617864162,\"fTsumwx2\":129.795095953492,\"fMaximum\":0.0320072340779006,\"fMinimum\":0,\"fNormFactor\":0,\"fContour\":[],\"fSumw2\":[0,0,0,0,0,0,0,4.28652872617226e-6,8.57305745234452e-6,0,8.57305745234452e-6,8.57305745234452e-6,0,4.28652872617226e-6,1.7146114904689e-5,1.28595861785168e-5,2.14326436308613e-5,2.14326436308613e-5,3.00057010832058e-5,2.57191723570336e-5,3.00057010832058e-5,3.00057010832058e-5,3.85787585355503e-5,2.57191723570336e-5,3.00057010832058e-5,3.42922298093781e-5,3.85787585355503e-5,3.42922298093781e-5,3.42922298093781e-5,6.00114021664116e-5,1.28595861785168e-5,3.85787585355503e-5,4.71518159878949e-5,4.71518159878949e-5,4.71518159878949e-5,1.28595861785168e-5,3.85787585355503e-5,3.00057010832058e-5,2.14326436308613e-5,3.42922298093781e-5,3.85787585355503e-5,1.28595861785168e-5,3.00057010832058e-5,2.14326436308613e-5,2.14326436308613e-5,3.42922298093781e-5,3.85787585355503e-5,3.85787585355503e-5,1.7146114904689e-5,3.85787585355503e-5,2.57191723570336e-5,2.14326436308613e-5,2.14326436308613e-5,8.57305745234452e-6,2.57191723570336e-5,4.28652872617226e-5,3.42922298093781e-5,3.00057010832058e-5,2.57191723570336e-5,3.85787585355503e-5,4.28652872617226e-5,1.7146114904689e-5,2.14326436308613e-5,1.7146114904689e-5,8.57305745234452e-6,2.57191723570336e-5,2.57191723570336e-5,2.57191723570336e-5,2.57191723570336e-5,3.00057010832058e-5,1.28595861785168e-5,3.00057010832058e-5,2.14326436308613e-5,2.14326436308613e-5,2.57191723570336e-5,2.14326436308613e-5,2.57191723570336e-5,3.00057010832058e-5,3.42922298093781e-5,2.57191723570336e-5,3.00057010832058e-5,2.14326436308613e-5,2.14326436308613e-5,1.7146114904689e-5,1.28595861785168e-5,4.28652872617226e-6,2.14326436308613e-5,0,1.28595861785168e-5,4.28652872617226e-6,4.28652872617226e-6,8.57305745234452e-6,0,4.28652872617226e-6,4.28652872617226e-6,0,0,0,0,0,0,0],\"fOption\":\"\",\"fFunctions\":{\"_typename\":\"TList\",\"name\":\"TList\",\"arr\":[{\"_typename\":\"TPaveStats\",\"fUniqueID\":0,\"fBits\":50331657,\"fLineColor\":1,\"fLineStyle\":1,\"fLineWidth\":1,\"fFillColor\":0,\"fFillStyle\":1001,\"fX1\":0.850000025331974,\"fY1\":0.027006104155651,\"fX2\":1.10000003278256,\"fY2\":0.0334075509235366,\"fX1NDC\":0.780000016093254,\"fY1NDC\":0.775000005960464,\"fX2NDC\":0.980000019073486,\"fY2NDC\":0.935000002384186,\"fBorderSize\":1,\"fInit\":1,\"fShadowColor\":1,\"fCornerRadius\":0,\"fOption\":\"brNDC\",\"fName\":\"stats\",\"fTextAngle\":0,\"fTextSize\":0,\"fTextAlign\":12,\"fTextColor\":1,\"fTextFont\":42,\"fLabel\":\"\",\"fLongest\":18,\"fMargin\":0.05,\"fLines\":{\"_typename\":\"TList\",\"name\":\"TList\",\"arr\":[{\"_typename\":\"TLatex\",\"fUniqueID\":0,\"fBits\":50331648,\"fName\":\"\",\"fTitle\":\"h_tau21AK8\",\"fTextAngle\":0,\"fTextSize\":0.0368,\"fTextAlign\":0,\"fTextColor\":0,\"fTextFont\":0,\"fX\":0,\"fY\":0,\"fLineColor\":1,\"fLineStyle\":1,\"fLineWidth\":2,\"fLimitFactorSize\":3,\"fOriginSize\":0.0368000008165836},{\"_typename\":\"TLatex\",\"fUniqueID\":0,\"fBits\":50331648,\"fName\":\"\",\"fTitle\":\"Entries = 483    \",\"fTextAngle\":0,\"fTextSize\":0,\"fTextAlign\":0,\"fTextColor\":0,\"fTextFont\":0,\"fX\":0,\"fY\":0,\"fLineColor\":1,\"fLineStyle\":1,\"fLineWidth\":2,\"fLimitFactorSize\":3,\"fOriginSize\":0.04},{\"_typename\":\"TLatex\",\"fUniqueID\":0,\"fBits\":50331648,\"fName\":\"\",\"fTitle\":\"Mean  = 0.4735\",\"fTextAngle\":0,\"fTextSize\":0,\"fTextAlign\":0,\"fTextColor\":0,\"fTextFont\":0,\"fX\":0,\"fY\":0,\"fLineColor\":1,\"fLineStyle\":1,\"fLineWidth\":2,\"fLimitFactorSize\":3,\"fOriginSize\":0.04},{\"_typename\":\"TLatex\",\"fUniqueID\":0,\"fBits\":50331648,\"fName\":\"\",\"fTitle\":\"Std Dev   = 0.2111\",\"fTextAngle\":0,\"fTextSize\":0,\"fTextAlign\":0,\"fTextColor\":0,\"fTextFont\":0,\"fX\":0,\"fY\":0,\"fLineColor\":1,\"fLineStyle\":1,\"fLineWidth\":2,\"fLimitFactorSize\":3,\"fOriginSize\":0.04}],\"opt\":[\"\",\"\",\"\",\"\"]},\"fOptFit\":0,\"fOptStat\":1111,\"fFitFormat\":\"5.4g\",\"fStatFormat\":\"6.4g\",\"fParent\":{\"$ref\":3}}],\"opt\":[\"brNDC\"]},\"fBufferSize\":0,\"fBuffer\":[],\"fBinStatErrOpt\":0,\"fStatOverflows\":2,\"fArray\":[0,0,0,0,0,0,0,0.002070393,0.004140787,0,0.004140787,0.004140787,0,0.002070393,0.008281574,0.00621118,0.01035197,0.01035197,0.01449275,0.01242236,0.01449275,0.01449275,0.01863354,0.01242236,0.01449275,0.01656315,0.01863354,0.01656315,0.01656315,0.02898551,0.00621118,0.01863354,0.02277433,0.02277433,0.02277433,0.00621118,0.01863354,0.01449275,0.01035197,0.01656315,0.01863354,0.00621118,0.01449275,0.01035197,0.01035197,0.01656315,0.01863354,0.01863354,0.008281574,0.01863354,0.01242236,0.01035197,0.01035197,0.004140787,0.01242236,0.02070393,0.01656315,0.01449275,0.01242236,0.01863354,0.02070393,0.008281574,0.01035197,0.008281574,0.004140787,0.01242236,0.01242236,0.01242236,0.01242236,0.01449275,0.00621118,0.01449275,0.01035197,0.01035197,0.01242236,0.01035197,0.01242236,0.01449275,0.01656315,0.01242236,0.01449275,0.01035197,0.01035197,0.008281574,0.00621118,0.002070393,0.01035197,0,0.00621118,0.002070393,0.002070393,0.004140787,0,0.002070393,0.002070393,0,0,0,0,0,0,0]},{\"_typename\":\"TH1F\",\"fUniqueID\":0,\"fBits\":50331656,\"fName\":\"h_tau21AK8\",\"fTitle\":\"AK8 Jet #tau_{2} \\/ #tau_{1}\",\"fLineColor\":2,\"fLineStyle\":1,\"fLineWidth\":1,\"fFillColor\":0,\"fFillStyle\":1001,\"fMarkerColor\":1,\"fMarkerStyle\":1,\"fMarkerSize\":1,\"fNcells\":102,\"fXaxis\":{\"_typename\":\"TAxis\",\"fUniqueID\":0,\"fBits\":50331648,\"fName\":\"xaxis\",\"fTitle\":\"#tau_{21}\",\"fNdivisions\":510,\"fAxisColor\":1,\"fLabelColor\":1,\"fLabelFont\":42,\"fLabelOffset\":0.005,\"fLabelSize\":0.035,\"fTickLength\":0.03,\"fTitleOffset\":1,\"fTitleSize\":0.035,\"fTitleColor\":1,\"fTitleFont\":42,\"fNbins\":100,\"fXmin\":0,\"fXmax\":1,\"fXbins\":[],\"fFirst\":0,\"fLast\":0,\"fBits2\":0,\"fTimeDisplay\":false,\"fTimeFormat\":\"\",\"fLabels\":null,\"fModLabs\":null},\"fYaxis\":{\"_typename\":\"TAxis\",\"fUniqueID\":0,\"fBits\":50331648,\"fName\":\"yaxis\",\"fTitle\":\"\",\"fNdivisions\":510,\"fAxisColor\":1,\"fLabelColor\":1,\"fLabelFont\":42,\"fLabelOffset\":0.005,\"fLabelSize\":0.035,\"fTickLength\":0.03,\"fTitleOffset\":0,\"fTitleSize\":0.035,\"fTitleColor\":1,\"fTitleFont\":42,\"fNbins\":1,\"fXmin\":0,\"fXmax\":1,\"fXbins\":[],\"fFirst\":0,\"fLast\":0,\"fBits2\":0,\"fTimeDisplay\":false,\"fTimeFormat\":\"\",\"fLabels\":null,\"fModLabs\":null},\"fZaxis\":{\"_typename\":\"TAxis\",\"fUniqueID\":0,\"fBits\":50331648,\"fName\":\"zaxis\",\"fTitle\":\"\",\"fNdivisions\":510,\"fAxisColor\":1,\"fLabelColor\":1,\"fLabelFont\":42,\"fLabelOffset\":0.005,\"fLabelSize\":0.035,\"fTickLength\":0.03,\"fTitleOffset\":1,\"fTitleSize\":0.035,\"fTitleColor\":1,\"fTitleFont\":42,\"fNbins\":1,\"fXmin\":0,\"fXmax\":1,\"fXbins\":[],\"fFirst\":0,\"fLast\":0,\"fBits2\":0,\"fTimeDisplay\":false,\"fTimeFormat\":\"\",\"fLabels\":null,\"fModLabs\":null},\"fBarOffset\":0,\"fBarWidth\":1000,\"fEntries\":3871,\"fTsumw\":3871,\"fTsumw2\":3871,\"fTsumwx\":2565.01416520435,\"fTsumwx2\":1809.34308450416,\"fMaximum\":-1111,\"fMinimum\":-1111,\"fNormFactor\":0,\"fContour\":[],\"fSumw2\":[0,0,0,0,0,0,0,0,0,0,0,6.67349988564958e-8,6.67349988564958e-8,1.33469997712992e-7,0,0,6.67349988564958e-8,2.00204996569487e-7,4.00409993138975e-7,3.33674994282479e-7,2.66939995425983e-7,2.00204996569487e-7,6.00614989708462e-7,8.0081998627795e-7,6.67349988564958e-7,6.00614989708462e-7,8.67554985134445e-7,1.00102498284744e-6,7.34084987421454e-7,1.00102498284744e-6,1.06775998170393e-6,9.34289983990941e-7,8.67554985134445e-7,1.00102498284744e-6,1.6016399725559e-6,1.20122997941692e-6,1.6016399725559e-6,1.46816997484291e-6,2.00204996569487e-6,3.00307494854231e-6,1.73510997026889e-6,2.13551996340787e-6,2.13551996340787e-6,2.60266495540334e-6,2.13551996340787e-6,1.66837497141239e-6,1.66837497141239e-6,2.86960495082932e-6,2.80286995197282e-6,3.2032799451118e-6,2.80286995197282e-6,2.20225496226436e-6,2.06878496455137e-6,2.40245995883385e-6,3.47021994053778e-6,3.00307494854231e-6,3.33674994282479e-6,4.00409993138975e-6,3.80389493482026e-6,4.07083493024624e-6,3.73715993596376e-6,4.07083493024624e-6,4.20430492795923e-6,3.47021994053778e-6,4.93838991538069e-6,3.87062993367676e-6,4.67144991995471e-6,5.20532991080667e-6,6.00614989708462e-6,5.93941489822813e-6,5.40553490737616e-6,6.60676488679308e-6,6.4065598902236e-6,6.80696988336257e-6,7.54105487078402e-6,7.8747298650665e-6,7.8747298650665e-6,6.67349988564958e-6,7.47431987192753e-6,6.20635489365411e-6,6.74023488450607e-6,7.14064487764505e-6,6.2730898925106e-6,7.74125986735351e-6,6.80696988336257e-6,5.33879990851966e-6,5.20532991080667e-6,4.27103992681573e-6,3.80389493482026e-6,4.53797992224171e-6,2.73613495311633e-6,1.66837497141239e-6,1.73510997026889e-6,1.06775998170393e-6,7.34084987421454e-7,6.00614989708462e-7,6.67349988564958e-8,0,0,0,0,0],\"fOption\":\"\",\"fFunctions\":{\"_typename\":\"TList\",\"name\":\"TList\",\"arr\":[],\"opt\":[]},\"fBufferSize\":0,\"fBuffer\":[],\"fBinStatErrOpt\":0,\"fStatOverflows\":2,\"fArray\":[0,0,0,0,0,0,0,0,0,0,0,2.583312e-4,2.583312e-4,5.166624e-4,0,0,2.583312e-4,7.749936e-4,0.001549987,0.001291656,0.001033325,7.749936e-4,0.002324981,0.003099974,0.002583312,0.002324981,0.003358305,0.003874968,0.002841643,0.003874968,0.004133299,0.003616637,0.003358305,0.003874968,0.006199948,0.004649961,0.006199948,0.005683286,0.007749936,0.0116249,0.006716611,0.008266598,0.008266598,0.01007492,0.008266598,0.00645828,0.00645828,0.01110824,0.01084991,0.0123999,0.01084991,0.008524929,0.008008267,0.009299923,0.01343322,0.0116249,0.01291656,0.01549987,0.01472488,0.0157582,0.01446655,0.0157582,0.01627486,0.01343322,0.01911651,0.01498321,0.01808318,0.02014983,0.02324981,0.02299147,0.02092483,0.02557479,0.02479979,0.02634978,0.02919142,0.03048308,0.03048308,0.02583312,0.02893309,0.0240248,0.02609145,0.02764144,0.02428313,0.02996642,0.02634978,0.02066649,0.02014983,0.0165332,0.01472488,0.01756652,0.01059158,0.00645828,0.006716611,0.004133299,0.002841643,0.002324981,2.583312e-4,0,0,0,0,0]},{\"_typename\":\"TLegend\",\"fUniqueID\":0,\"fBits\":50331656,\"fLineColor\":1,\"fLineStyle\":1,\"fLineWidth\":1,\"fFillColor\":0,\"fFillStyle\":1001,\"fX1\":0.024999992921948,\"fY1\":0.0220049735179839,\"fX2\":0.274999996647238,\"fY2\":0.0300067821566953,\"fX1NDC\":0.12,\"fY1NDC\":0.65,\"fX2NDC\":0.32,\"fY2NDC\":0.85,\"fBorderSize\":0,\"fInit\":1,\"fShadowColor\":1,\"fCornerRadius\":0,\"fOption\":\"brNDC\",\"fName\":\"TPave\",\"fTextAngle\":0,\"fTextSize\":0,\"fTextAlign\":12,\"fTextColor\":1,\"fTextFont\":42,\"fPrimitives\":{\"_typename\":\"TList\",\"name\":\"TList\",\"arr\":[{\"_typename\":\"TLegendEntry\",\"fUniqueID\":0,\"fBits\":50331656,\"fTextAngle\":0,\"fTextSize\":0,\"fTextAlign\":0,\"fTextColor\":0,\"fTextFont\":42,\"fLineColor\":1,\"fLineStyle\":1,\"fLineWidth\":1,\"fFillColor\":0,\"fFillStyle\":0,\"fMarkerColor\":1,\"fMarkerStyle\":21,\"fMarkerSize\":1,\"fObject\":{\"$ref\":3},\"fLabel\":\"t#bar{t}\",\"fOption\":\"l\"},{\"_typename\":\"TLegendEntry\",\"fUniqueID\":0,\"fBits\":50331656,\"fTextAngle\":0,\"fTextSize\":0,\"fTextAlign\":0,\"fTextColor\":0,\"fTextFont\":42,\"fLineColor\":2,\"fLineStyle\":1,\"fLineWidth\":1,\"fFillColor\":0,\"fFillStyle\":0,\"fMarkerColor\":1,\"fMarkerStyle\":21,\"fMarkerSize\":1,\"fObject\":{\"$ref\":14},\"fLabel\":\"QCD\",\"fOption\":\"l\"}],\"opt\":[\"l\",\"l\"]},\"fEntrySeparation\":0.1,\"fMargin\":0.25,\"fNColumns\":1,\"fColumnSeparation\":0},{\"_typename\":\"TPaveText\",\"fUniqueID\":0,\"fBits\":50331657,\"fLineColor\":1,\"fLineStyle\":1,\"fLineWidth\":1,\"fFillColor\":0,\"fFillStyle\":0,\"fX1\":0.341127871195839,\"fY1\":0.0331634280435073,\"fX2\":0.658872128804161,\"fY2\":0.035808093610539,\"fX1NDC\":0.372902298850575,\"fY1NDC\":0.928898309853117,\"fX2NDC\":0.627097701149425,\"fY2NDC\":0.995000004768372,\"fBorderSize\":0,\"fInit\":1,\"fShadowColor\":1,\"fCornerRadius\":0,\"fOption\":\"blNDC\",\"fName\":\"title\",\"fTextAngle\":0,\"fTextSize\":0,\"fTextAlign\":22,\"fTextColor\":1,\"fTextFont\":42,\"fLabel\":\"\",\"fLongest\":27,\"fMargin\":0.05,\"fLines\":{\"_typename\":\"TList\",\"name\":\"TList\",\"arr\":[{\"_typename\":\"TLatex\",\"fUniqueID\":0,\"fBits\":50331648,\"fName\":\"\",\"fTitle\":\"AK8 Jet #tau_{2} \\/ #tau_{1}\",\"fTextAngle\":0,\"fTextSize\":0,\"fTextAlign\":0,\"fTextColor\":0,\"fTextFont\":0,\"fX\":0,\"fY\":0,\"fLineColor\":1,\"fLineStyle\":1,\"fLineWidth\":2,\"fLimitFactorSize\":3,\"fOriginSize\":0.0561864413321018}],\"opt\":[\"\"]}}],\"opt\":[\"\",\"hist\",\"same hist\",\"\",\"blNDC\"]},\"fExecs\":null,\"fName\":\"c_tau21\",\"fTitle\":\"c_tau21\",\"fNumPaletteColor\":0,\"fNextPaletteColor\":0,\"fDISPLAY\":\"$DISPLAY\",\"fDoubleBuffer\":0,\"fRetained\":true,\"fXsizeUser\":0,\"fYsizeUser\":0,\"fXsizeReal\":20,\"fYsizeReal\":14.28571,\"fWindowTopX\":0,\"fWindowTopY\":0,\"fWindowWidth\":0,\"fWindowHeight\":0,\"fCw\":696,\"fCh\":472,\"fCatt\":{\"_typename\":\"TAttCanvas\",\"fXBetween\":2,\"fYBetween\":2,\"fTitleFromTop\":1.2,\"fXdate\":0.2,\"fYdate\":0.3,\"fAdate\":1},\"kMoveOpaque\":true,\"kResizeOpaque\":true,\"fHighLightColor\":2,\"fBatch\":true,\"kShowEventStatus\":false,\"kAutoExec\":true,\"kMenuBar\":true});\n",
       "       Core.draw(\"root_plot_35\", obj, \"\");\n",
       "     }\n",
       " );\n",
       "</script>\n"
      ],
      "text/plain": [
       "<IPython.core.display.HTML object>"
      ]
     },
     "metadata": {},
     "output_type": "display_data"
    }
   ],
   "source": [
    "import ROOT\n",
    "%jsroot on\n",
    "\n",
    "f1 = ROOT.TFile(\"$CMSSW_BASE/src/Analysis/JMEDAS/notebooks/files/ttjets.root\")\n",
    "f2 = ROOT.TFile(\"$CMSSW_BASE/src/Analysis/JMEDAS/notebooks/files/QCD_Pt_300to470.root\")\n",
    "\n",
    "h_tau21AK8_1 = f1.Get(\"h_tau21AK8\")\n",
    "h_tau21AK8_2 = f2.Get(\"h_tau21AK8\")\n",
    "\n",
    "h_tau21AK8_1.SetLineColor(1)\n",
    "h_tau21AK8_2.SetLineColor(2)\n",
    "\n",
    "leg = ROOT.TLegend(0.12, 0.65, 0.32, 0.85)\n",
    "leg.SetFillColor(0)\n",
    "leg.SetBorderSize(0)\n",
    "leg.AddEntry(h_tau21AK8_1, \"t#bar{t}\", 'l')\n",
    "leg.AddEntry(h_tau21AK8_2, \"QCD\", 'l')\n",
    "\n",
    "h_tau21AK8_1.Sumw2()\n",
    "h_tau21AK8_1.Scale( 1.0 / h_tau21AK8_1.Integral() )\n",
    "h_tau21AK8_2.Sumw2()\n",
    "h_tau21AK8_2.Scale( 1.0 / h_tau21AK8_2.Integral() )\n",
    "\n",
    "c_tau21 = ROOT.TCanvas('c_tau21', 'c_tau21') \n",
    "h_tau21AK8_1.GetYaxis().SetRangeUser(0., max([h_tau21AK8_1.GetMaximum(), h_tau21AK8_2.GetMaximum()]) * 1.05)\n",
    "h_tau21AK8_1.Draw(\"hist\")\n",
    "h_tau21AK8_2.Draw(\"same hist\")\n",
    "leg.Draw()\n",
    "c_tau21.Draw()\n"
   ]
  },
  {
   "cell_type": "markdown",
   "metadata": {},
   "source": [
    "Now compare with the energy correlation function, N2b1:\n",
    "<details>\n",
    "<summary>\n",
    "    <font color='blue'>Show answer...</font>\n",
    "</summary>\n",
    "The plot should look like this:\n",
    "\n",
    "<img src=\"..//files/ak8N2b1_topvqcd.png\" width=400px/>\n",
    "</details>"
   ]
  },
  {
   "cell_type": "code",
   "execution_count": 47,
   "metadata": {},
   "outputs": [
    {
     "name": "stderr",
     "output_type": "stream",
     "text": [
      "Warning in <TCanvas::Constructor>: Deleting canvas with same name: c_n2\n"
     ]
    },
    {
     "data": {
      "text/html": [
       "\n",
       "<div id=\"root_plot_37\"\n",
       "     style=\"width: 696px; height: 472px\">\n",
       "</div>\n",
       "\n",
       "<script>\n",
       " requirejs.config({\n",
       "     paths: {\n",
       "       'JSRootCore' : 'https://root.cern.ch/js/notebook//scripts/JSRootCore',\n",
       "     }\n",
       "   });\n",
       " require(['JSRootCore'],\n",
       "     function(Core) {\n",
       "       var obj = Core.JSONR_unref({\"_typename\":\"TCanvas\",\"fUniqueID\":0,\"fBits\":53673992,\"fLineColor\":1,\"fLineStyle\":1,\"fLineWidth\":1,\"fFillColor\":0,\"fFillStyle\":1001,\"fLeftMargin\":0.1,\"fRightMargin\":0.1,\"fBottomMargin\":0.1,\"fTopMargin\":0.1,\"fXfile\":2,\"fYfile\":2,\"fAfile\":1,\"fXstat\":0.99,\"fYstat\":0.99,\"fAstat\":2,\"fFrameFillColor\":0,\"fFrameLineColor\":1,\"fFrameFillStyle\":1001,\"fFrameLineStyle\":1,\"fFrameLineWidth\":1,\"fFrameBorderSize\":1,\"fFrameBorderMode\":0,\"fX1\":-0.125000009313226,\"fY1\":-0.00929140825133086,\"fX2\":1.12500000931323,\"fY2\":0.0836226687238669,\"fXtoAbsPixelk\":69.6000541484835,\"fXtoPixelk\":69.6000541484835,\"fXtoPixel\":556.799991703033,\"fYtoAbsPixelk\":424.800047186661,\"fYtoPixelk\":424.800047186661,\"fYtoPixel\":-5079.96221203375,\"fUtoAbsPixelk\":5e-5,\"fUtoPixelk\":5e-5,\"fUtoPixel\":696,\"fVtoAbsPixelk\":472.00005,\"fVtoPixelk\":472,\"fVtoPixel\":-472,\"fAbsPixeltoXk\":-0.125000009313226,\"fPixeltoXk\":-0.125000009313226,\"fPixeltoX\":0.0017959770382564,\"fAbsPixeltoYk\":0.0836226687238669,\"fPixeltoYk\":-0.00929140825133086,\"fPixeltoY\":-1.968518579983e-4,\"fXlowNDC\":0,\"fYlowNDC\":0,\"fXUpNDC\":0,\"fYUpNDC\":0,\"fWNDC\":1,\"fHNDC\":1,\"fAbsXlowNDC\":0,\"fAbsYlowNDC\":0,\"fAbsWNDC\":1,\"fAbsHNDC\":1,\"fUxmin\":0,\"fUymin\":0,\"fUxmax\":1,\"fUymax\":0.0743312604725361,\"fTheta\":30,\"fPhi\":30,\"fAspectRatio\":0,\"fNumber\":0,\"fTickx\":0,\"fTicky\":0,\"fLogx\":0,\"fLogy\":0,\"fLogz\":0,\"fPadPaint\":0,\"fCrosshair\":0,\"fCrosshairPos\":0,\"fBorderSize\":2,\"fBorderMode\":0,\"fModified\":false,\"fGridx\":false,\"fGridy\":false,\"fAbsCoord\":false,\"fEditable\":true,\"fFixedAspectRatio\":false,\"fPrimitives\":{\"_typename\":\"TList\",\"name\":\"TList\",\"arr\":[{\"_typename\":\"TFrame\",\"fUniqueID\":0,\"fBits\":50331656,\"fLineColor\":1,\"fLineStyle\":1,\"fLineWidth\":1,\"fFillColor\":0,\"fFillStyle\":1001,\"fX1\":0,\"fY1\":0,\"fX2\":1,\"fY2\":0.0743312604725361,\"fBorderSize\":1,\"fBorderMode\":0},{\"_typename\":\"TH1F\",\"fUniqueID\":0,\"fBits\":50331656,\"fName\":\"h_ak8_N2_beta1\",\"fTitle\":\"AK8 N2_beta1\",\"fLineColor\":1,\"fLineStyle\":1,\"fLineWidth\":1,\"fFillColor\":0,\"fFillStyle\":1001,\"fMarkerColor\":1,\"fMarkerStyle\":1,\"fMarkerSize\":1,\"fNcells\":102,\"fXaxis\":{\"_typename\":\"TAxis\",\"fUniqueID\":0,\"fBits\":50331648,\"fName\":\"xaxis\",\"fTitle\":\"N_{2}^{#beta=1}\",\"fNdivisions\":510,\"fAxisColor\":1,\"fLabelColor\":1,\"fLabelFont\":42,\"fLabelOffset\":0.005,\"fLabelSize\":0.035,\"fTickLength\":0.03,\"fTitleOffset\":1,\"fTitleSize\":0.035,\"fTitleColor\":1,\"fTitleFont\":42,\"fNbins\":100,\"fXmin\":0,\"fXmax\":1,\"fXbins\":[],\"fFirst\":0,\"fLast\":0,\"fBits2\":0,\"fTimeDisplay\":false,\"fTimeFormat\":\"\",\"fLabels\":null,\"fModLabs\":null},\"fYaxis\":{\"_typename\":\"TAxis\",\"fUniqueID\":0,\"fBits\":50331656,\"fName\":\"yaxis\",\"fTitle\":\"\",\"fNdivisions\":510,\"fAxisColor\":1,\"fLabelColor\":1,\"fLabelFont\":42,\"fLabelOffset\":0.005,\"fLabelSize\":0.035,\"fTickLength\":0.03,\"fTitleOffset\":0,\"fTitleSize\":0.035,\"fTitleColor\":1,\"fTitleFont\":42,\"fNbins\":1,\"fXmin\":0,\"fXmax\":1,\"fXbins\":[],\"fFirst\":0,\"fLast\":0,\"fBits2\":0,\"fTimeDisplay\":false,\"fTimeFormat\":\"\",\"fLabels\":null,\"fModLabs\":null},\"fZaxis\":{\"_typename\":\"TAxis\",\"fUniqueID\":0,\"fBits\":50331648,\"fName\":\"zaxis\",\"fTitle\":\"\",\"fNdivisions\":510,\"fAxisColor\":1,\"fLabelColor\":1,\"fLabelFont\":42,\"fLabelOffset\":0.005,\"fLabelSize\":0.035,\"fTickLength\":0.03,\"fTitleOffset\":1,\"fTitleSize\":0.035,\"fTitleColor\":1,\"fTitleFont\":42,\"fNbins\":1,\"fXmin\":0,\"fXmax\":1,\"fXbins\":[],\"fFirst\":0,\"fLast\":0,\"fBits2\":0,\"fTimeDisplay\":false,\"fTimeFormat\":\"\",\"fLabels\":null,\"fModLabs\":null},\"fBarOffset\":0,\"fBarWidth\":1000,\"fEntries\":483,\"fTsumw\":461,\"fTsumw2\":461,\"fTsumwx\":133.518740069121,\"fTsumwx2\":41.1465510069582,\"fMaximum\":0.0743312604725361,\"fMinimum\":0,\"fNormFactor\":0,\"fContour\":[],\"fSumw2\":[1.03519181633815e-4,0,0,0,0,0,4.70541734699159e-6,0,9.41083469398318e-6,4.70541734699159e-6,0,1.88216693879664e-5,9.41083469398318e-6,0,1.88216693879664e-5,1.41162520409748e-5,2.3527086734958e-5,3.29379214289411e-5,4.70541734699159e-5,6.11704255108907e-5,5.64650081638991e-5,3.29379214289411e-5,4.23487561229243e-5,6.58758428578823e-5,9.41083469398318e-5,8.46975122458486e-5,8.46975122458486e-5,1.03519181633815e-4,1.22340851021781e-4,8.46975122458486e-5,1.03519181633815e-4,7.99920948988571e-5,1.41162520409748e-4,1.08224598980807e-4,7.99920948988571e-5,1.27046268368773e-4,1.22340851021781e-4,7.99920948988571e-5,1.08224598980807e-4,7.52866775518655e-5,4.70541734699159e-5,2.82325040819496e-5,3.29379214289411e-5,1.88216693879664e-5,0,0,0,0,0,0,0,0,0,0,0,0,0,0,0,0,0,0,0,0,0,0,0,0,0,0,0,0,0,0,0,0,0,0,0,0,0,0,0,0,0,0,0,0,0,0,0,0,0,0,0,0,0,0,0,0,0,0],\"fOption\":\"\",\"fFunctions\":{\"_typename\":\"TList\",\"name\":\"TList\",\"arr\":[{\"_typename\":\"TPaveStats\",\"fUniqueID\":0,\"fBits\":50331657,\"fLineColor\":1,\"fLineStyle\":1,\"fLineWidth\":1,\"fFillColor\":0,\"fFillStyle\":1001,\"fX1\":0.850000025331974,\"fY1\":0.0627170019582585,\"fX2\":1.10000003278256,\"fY2\":0.0775832539420035,\"fX1NDC\":0.780000016093254,\"fY1NDC\":0.775000005960464,\"fX2NDC\":0.980000019073486,\"fY2NDC\":0.935000002384186,\"fBorderSize\":1,\"fInit\":1,\"fShadowColor\":1,\"fCornerRadius\":0,\"fOption\":\"brNDC\",\"fName\":\"stats\",\"fTextAngle\":0,\"fTextSize\":0,\"fTextAlign\":12,\"fTextColor\":1,\"fTextFont\":42,\"fLabel\":\"\",\"fLongest\":19,\"fMargin\":0.05,\"fLines\":{\"_typename\":\"TList\",\"name\":\"TList\",\"arr\":[{\"_typename\":\"TLatex\",\"fUniqueID\":0,\"fBits\":50331648,\"fName\":\"\",\"fTitle\":\"h_ak8_N2_beta1\",\"fTextAngle\":0,\"fTextSize\":0.0368,\"fTextAlign\":0,\"fTextColor\":0,\"fTextFont\":0,\"fX\":0,\"fY\":0,\"fLineColor\":1,\"fLineStyle\":1,\"fLineWidth\":2,\"fLimitFactorSize\":3,\"fOriginSize\":0.0368000008165836},{\"_typename\":\"TLatex\",\"fUniqueID\":0,\"fBits\":50331648,\"fName\":\"\",\"fTitle\":\"Entries = 483    \",\"fTextAngle\":0,\"fTextSize\":0,\"fTextAlign\":0,\"fTextColor\":0,\"fTextFont\":0,\"fX\":0,\"fY\":0,\"fLineColor\":1,\"fLineStyle\":1,\"fLineWidth\":2,\"fLimitFactorSize\":3,\"fOriginSize\":0.04},{\"_typename\":\"TLatex\",\"fUniqueID\":0,\"fBits\":50331648,\"fName\":\"\",\"fTitle\":\"Mean  = 0.2896\",\"fTextAngle\":0,\"fTextSize\":0,\"fTextAlign\":0,\"fTextColor\":0,\"fTextFont\":0,\"fX\":0,\"fY\":0,\"fLineColor\":1,\"fLineStyle\":1,\"fLineWidth\":2,\"fLimitFactorSize\":3,\"fOriginSize\":0.04},{\"_typename\":\"TLatex\",\"fUniqueID\":0,\"fBits\":50331648,\"fName\":\"\",\"fTitle\":\"Std Dev   = 0.07328\",\"fTextAngle\":0,\"fTextSize\":0,\"fTextAlign\":0,\"fTextColor\":0,\"fTextFont\":0,\"fX\":0,\"fY\":0,\"fLineColor\":1,\"fLineStyle\":1,\"fLineWidth\":2,\"fLimitFactorSize\":3,\"fOriginSize\":0.04}],\"opt\":[\"\",\"\",\"\",\"\"]},\"fOptFit\":0,\"fOptStat\":1111,\"fFitFormat\":\"5.4g\",\"fStatFormat\":\"6.4g\",\"fParent\":{\"$ref\":3}}],\"opt\":[\"brNDC\"]},\"fBufferSize\":0,\"fBuffer\":[],\"fBinStatErrOpt\":0,\"fStatOverflows\":2,\"fArray\":[0.04772234,0,0,0,0,0,0.002169197,0,0.004338395,0.002169197,0,0.00867679,0.004338395,0,0.00867679,0.006507592,0.01084599,0.01518438,0.02169197,0.02819957,0.02603037,0.01518438,0.01952278,0.03036876,0.04338395,0.03904555,0.03904555,0.04772234,0.05639913,0.03904555,0.04772234,0.03687635,0.06507592,0.04989154,0.03687635,0.05856833,0.05639913,0.03687635,0.04989154,0.03470716,0.02169197,0.01301518,0.01518438,0.00867679,0,0,0,0,0,0,0,0,0,0,0,0,0,0,0,0,0,0,0,0,0,0,0,0,0,0,0,0,0,0,0,0,0,0,0,0,0,0,0,0,0,0,0,0,0,0,0,0,0,0,0,0,0,0,0,0,0,0]},{\"_typename\":\"TH1F\",\"fUniqueID\":0,\"fBits\":50331656,\"fName\":\"h_ak8_N2_beta1\",\"fTitle\":\"AK8 N2_beta1\",\"fLineColor\":2,\"fLineStyle\":1,\"fLineWidth\":1,\"fFillColor\":0,\"fFillStyle\":1001,\"fMarkerColor\":1,\"fMarkerStyle\":1,\"fMarkerSize\":1,\"fNcells\":102,\"fXaxis\":{\"_typename\":\"TAxis\",\"fUniqueID\":0,\"fBits\":50331648,\"fName\":\"xaxis\",\"fTitle\":\"N_{2}^{#beta=1}\",\"fNdivisions\":510,\"fAxisColor\":1,\"fLabelColor\":1,\"fLabelFont\":42,\"fLabelOffset\":0.005,\"fLabelSize\":0.035,\"fTickLength\":0.03,\"fTitleOffset\":1,\"fTitleSize\":0.035,\"fTitleColor\":1,\"fTitleFont\":42,\"fNbins\":100,\"fXmin\":0,\"fXmax\":1,\"fXbins\":[],\"fFirst\":0,\"fLast\":0,\"fBits2\":0,\"fTimeDisplay\":false,\"fTimeFormat\":\"\",\"fLabels\":null,\"fModLabs\":null},\"fYaxis\":{\"_typename\":\"TAxis\",\"fUniqueID\":0,\"fBits\":50331648,\"fName\":\"yaxis\",\"fTitle\":\"\",\"fNdivisions\":510,\"fAxisColor\":1,\"fLabelColor\":1,\"fLabelFont\":42,\"fLabelOffset\":0.005,\"fLabelSize\":0.035,\"fTickLength\":0.03,\"fTitleOffset\":0,\"fTitleSize\":0.035,\"fTitleColor\":1,\"fTitleFont\":42,\"fNbins\":1,\"fXmin\":0,\"fXmax\":1,\"fXbins\":[],\"fFirst\":0,\"fLast\":0,\"fBits2\":0,\"fTimeDisplay\":false,\"fTimeFormat\":\"\",\"fLabels\":null,\"fModLabs\":null},\"fZaxis\":{\"_typename\":\"TAxis\",\"fUniqueID\":0,\"fBits\":50331648,\"fName\":\"zaxis\",\"fTitle\":\"\",\"fNdivisions\":510,\"fAxisColor\":1,\"fLabelColor\":1,\"fLabelFont\":42,\"fLabelOffset\":0.005,\"fLabelSize\":0.035,\"fTickLength\":0.03,\"fTitleOffset\":1,\"fTitleSize\":0.035,\"fTitleColor\":1,\"fTitleFont\":42,\"fNbins\":1,\"fXmin\":0,\"fXmax\":1,\"fXbins\":[],\"fFirst\":0,\"fLast\":0,\"fBits2\":0,\"fTimeDisplay\":false,\"fTimeFormat\":\"\",\"fLabels\":null,\"fModLabs\":null},\"fBarOffset\":0,\"fBarWidth\":1000,\"fEntries\":3871,\"fTsumw\":3701,\"fTsumw2\":3701,\"fTsumwx\":1186.67164389569,\"fTsumwx2\":398.946383380568,\"fMaximum\":-1111,\"fMinimum\":-1111,\"fNormFactor\":0,\"fContour\":[],\"fSumw2\":[1.24111136119911e-5,1.46013101317542e-7,1.46013101317542e-7,0,7.30065506587709e-8,5.11045854611397e-7,3.65032753293855e-7,2.19019651976313e-7,3.65032753293855e-7,8.76078607905251e-7,5.11045854611397e-7,4.38039303952626e-7,5.84052405270168e-7,6.57058955928939e-7,1.24111136119911e-6,1.09509825988156e-6,1.7521572158105e-6,2.04418341844559e-6,1.60614411449296e-6,2.19019651976313e-6,3.57732098227978e-6,3.21228822898592e-6,3.94235373557363e-6,4.23437993820872e-6,5.54849785006659e-6,5.47549129940782e-6,6.7896092112657e-6,7.15464196455955e-6,8.5417664270762e-6,9.41784503498145e-6,1.23381070613323e-5,1.35062118718726e-5,1.35792184225314e-5,1.45283035810954e-5,1.67185001008585e-5,1.9127716272598e-5,1.86896769686454e-5,1.83246442153515e-5,1.73755590567875e-5,1.62804607969059e-5,1.29951660172612e-5,9.70987123761654e-6,9.41784503498145e-6,4.16137338754994e-6,5.84052405270168e-7,1.46013101317542e-7,0,0,0,0,0,0,0,0,0,0,0,0,0,0,0,0,0,0,0,0,0,0,0,0,0,0,0,0,0,0,0,0,0,0,0,0,0,0,0,0,0,0,0,0,0,0,0,0,0,0,0,0,0,0,0,0],\"fOption\":\"\",\"fFunctions\":{\"_typename\":\"TList\",\"name\":\"TList\",\"arr\":[],\"opt\":[]},\"fBufferSize\":0,\"fBuffer\":[],\"fBinStatErrOpt\":0,\"fStatOverflows\":2,\"fArray\":[0.04593353,5.403945e-4,5.403945e-4,0,2.701973e-4,0.001891381,0.001350986,8.105917e-4,0.001350986,0.003242367,0.001891381,0.001621183,0.002161578,0.002431775,0.004593353,0.004052958,0.006484734,0.007565523,0.00594434,0.008105917,0.01323966,0.01188868,0.01459065,0.01567144,0.02053499,0.02026479,0.02512834,0.02647933,0.03161308,0.03485544,0.04566333,0.04998649,0.05025669,0.05376925,0.06187517,0.07079168,0.0691705,0.06781951,0.06430694,0.06025399,0.04809511,0.03593623,0.03485544,0.01540124,0.002161578,5.403945e-4,0,0,0,0,0,0,0,0,0,0,0,0,0,0,0,0,0,0,0,0,0,0,0,0,0,0,0,0,0,0,0,0,0,0,0,0,0,0,0,0,0,0,0,0,0,0,0,0,0,0,0,0,0,0,0,0]},{\"_typename\":\"TLegend\",\"fUniqueID\":0,\"fBits\":50331656,\"fLineColor\":1,\"fLineStyle\":1,\"fLineWidth\":1,\"fFillColor\":0,\"fFillStyle\":1001,\"fX1\":0.687500002793968,\"fY1\":0.037165630236268,\"fX2\":0.937500006519258,\"fY2\":0.0557484456313076,\"fX1NDC\":0.65,\"fY1NDC\":0.5,\"fX2NDC\":0.85,\"fY2NDC\":0.7,\"fBorderSize\":0,\"fInit\":1,\"fShadowColor\":1,\"fCornerRadius\":0,\"fOption\":\"brNDC\",\"fName\":\"TPave\",\"fTextAngle\":0,\"fTextSize\":0,\"fTextAlign\":12,\"fTextColor\":1,\"fTextFont\":42,\"fPrimitives\":{\"_typename\":\"TList\",\"name\":\"TList\",\"arr\":[{\"_typename\":\"TLegendEntry\",\"fUniqueID\":0,\"fBits\":50331656,\"fTextAngle\":0,\"fTextSize\":0,\"fTextAlign\":0,\"fTextColor\":0,\"fTextFont\":42,\"fLineColor\":1,\"fLineStyle\":1,\"fLineWidth\":1,\"fFillColor\":0,\"fFillStyle\":0,\"fMarkerColor\":1,\"fMarkerStyle\":21,\"fMarkerSize\":1,\"fObject\":{\"$ref\":3},\"fLabel\":\"t#bar{t}\",\"fOption\":\"l\"},{\"_typename\":\"TLegendEntry\",\"fUniqueID\":0,\"fBits\":50331656,\"fTextAngle\":0,\"fTextSize\":0,\"fTextAlign\":0,\"fTextColor\":0,\"fTextFont\":42,\"fLineColor\":2,\"fLineStyle\":1,\"fLineWidth\":1,\"fFillColor\":0,\"fFillStyle\":0,\"fMarkerColor\":1,\"fMarkerStyle\":21,\"fMarkerSize\":1,\"fObject\":{\"$ref\":14},\"fLabel\":\"QCD\",\"fOption\":\"l\"}],\"opt\":[\"l\",\"l\"]},\"fEntrySeparation\":0.1,\"fMargin\":0.25,\"fNColumns\":1,\"fColumnSeparation\":0},{\"_typename\":\"TPaveText\",\"fUniqueID\":0,\"fBits\":50331657,\"fLineColor\":1,\"fLineStyle\":1,\"fLineWidth\":1,\"fFillColor\":0,\"fFillStyle\":0,\"fX1\":0.34561781379148,\"fY1\":0.0777249875012867,\"fX2\":0.65438218620852,\"fY2\":0.0831580987820398,\"fX1NDC\":0.376494252873563,\"fY1NDC\":0.936525428497185,\"fX2NDC\":0.623505747126437,\"fY2NDC\":0.995000004768372,\"fBorderSize\":0,\"fInit\":1,\"fShadowColor\":1,\"fCornerRadius\":0,\"fOption\":\"blNDC\",\"fName\":\"title\",\"fTextAngle\":0,\"fTextSize\":0,\"fTextAlign\":22,\"fTextColor\":1,\"fTextFont\":42,\"fLabel\":\"\",\"fLongest\":12,\"fMargin\":0.05,\"fLines\":{\"_typename\":\"TList\",\"name\":\"TList\",\"arr\":[{\"_typename\":\"TLatex\",\"fUniqueID\":0,\"fBits\":50331648,\"fName\":\"\",\"fTitle\":\"AK8 N2_beta1\",\"fTextAngle\":0,\"fTextSize\":0,\"fTextAlign\":0,\"fTextColor\":0,\"fTextFont\":0,\"fX\":0,\"fY\":0,\"fLineColor\":1,\"fLineStyle\":1,\"fLineWidth\":2,\"fLimitFactorSize\":3,\"fOriginSize\":0.0497033894062042}],\"opt\":[\"\"]}}],\"opt\":[\"\",\"hist\",\"same hist\",\"\",\"blNDC\"]},\"fExecs\":null,\"fName\":\"c_n2\",\"fTitle\":\"c_n2\",\"fNumPaletteColor\":0,\"fNextPaletteColor\":0,\"fDISPLAY\":\"$DISPLAY\",\"fDoubleBuffer\":0,\"fRetained\":true,\"fXsizeUser\":0,\"fYsizeUser\":0,\"fXsizeReal\":20,\"fYsizeReal\":14.28571,\"fWindowTopX\":0,\"fWindowTopY\":0,\"fWindowWidth\":0,\"fWindowHeight\":0,\"fCw\":696,\"fCh\":472,\"fCatt\":{\"_typename\":\"TAttCanvas\",\"fXBetween\":2,\"fYBetween\":2,\"fTitleFromTop\":1.2,\"fXdate\":0.2,\"fYdate\":0.3,\"fAdate\":1},\"kMoveOpaque\":true,\"kResizeOpaque\":true,\"fHighLightColor\":2,\"fBatch\":true,\"kShowEventStatus\":false,\"kAutoExec\":true,\"kMenuBar\":true});\n",
       "       Core.draw(\"root_plot_37\", obj, \"\");\n",
       "     }\n",
       " );\n",
       "</script>\n"
      ],
      "text/plain": [
       "<IPython.core.display.HTML object>"
      ]
     },
     "metadata": {},
     "output_type": "display_data"
    }
   ],
   "source": [
    "import ROOT\n",
    "%jsroot\n",
    "\n",
    "f1 = ROOT.TFile(\"$CMSSW_BASE/src/Analysis/JMEDAS/notebooks/files/ttjets.root\")\n",
    "f2 = ROOT.TFile(\"$CMSSW_BASE/src/Analysis/JMEDAS/notebooks/files/QCD_Pt_300to470.root\")\n",
    "\n",
    "h_ak8_N2_beta1_1 = f1.Get(\"h_ak8_N2_beta1\")\n",
    "h_ak8_N2_beta1_2 = f2.Get(\"h_ak8_N2_beta1\")\n",
    "\n",
    "h_ak8_N2_beta1_1.SetLineColor(1)\n",
    "h_ak8_N2_beta1_2.SetLineColor(2)\n",
    "\n",
    "leg = ROOT.TLegend(0.65, 0.5, 0.85, 0.7)\n",
    "leg.SetFillColor(0)\n",
    "leg.SetBorderSize(0)\n",
    "leg.AddEntry(h_ak8_N2_beta1_1, \"t#bar{t}\", 'l')\n",
    "leg.AddEntry(h_ak8_N2_beta1_2, \"QCD\", 'l')\n",
    "\n",
    "h_ak8_N2_beta1_1.Sumw2()\n",
    "h_ak8_N2_beta1_1.Scale( 1.0 / h_ak8_N2_beta1_1.Integral() )\n",
    "h_ak8_N2_beta1_2.Sumw2()\n",
    "h_ak8_N2_beta1_2.Scale( 1.0 / h_ak8_N2_beta1_2.Integral() )\n",
    "\n",
    "c_n2 = ROOT.TCanvas('c_n2', 'c_n2') \n",
    "h_ak8_N2_beta1_1.GetYaxis().SetRangeUser(0., max([h_ak8_N2_beta1_1.GetMaximum(), h_ak8_N2_beta1_2.GetMaximum()]) * 1.05)\n",
    "h_ak8_N2_beta1_1.Draw(\"hist\")\n",
    "h_ak8_N2_beta1_2.Draw(\"same hist\")\n",
    "leg.Draw()\n",
    "c_n2.Draw()"
   ]
  },
  {
   "cell_type": "markdown",
   "metadata": {},
   "source": [
    "# Quiz\n",
    "\n",
    "* Why can we use a ttbar sample to talk about W-tagging? (Hint: look at the two peaks in the jet mass plots later in the exercise.)\n",
    "* What cuts would you place on these variables to distinguish W bosons from QCD?\n",
    "* So far, which variable looks more promising?"
   ]
  },
  {
   "cell_type": "markdown",
   "metadata": {},
   "source": [
    "# Top Tagging\n",
    "\n",
    "We will now investigate how to identify top quarks using the substructure techniques we've learned.\n",
    "\n",
    "Compare the tau3/ tau2 ratio for the boosted top quarks from the RS KK gluon sample, and the jets from the QCD sample:\n",
    "<details>\n",
    "<summary>\n",
    "    <font color='blue'>Show answer...</font>\n",
    "</summary>\n",
    "The plot should look like this:\n",
    "\n",
    "<img src=\"../files/ak8tau32_topvqcd.png\" width=400px/>\n",
    "</details>"
   ]
  },
  {
   "cell_type": "code",
   "execution_count": 51,
   "metadata": {
    "scrolled": false
   },
   "outputs": [
    {
     "data": {
      "text/html": [
       "\n",
       "<div id=\"root_plot_39\"\n",
       "     style=\"width: 696px; height: 472px\">\n",
       "</div>\n",
       "\n",
       "<script>\n",
       " requirejs.config({\n",
       "     paths: {\n",
       "       'JSRootCore' : 'https://root.cern.ch/js/notebook//scripts/JSRootCore',\n",
       "     }\n",
       "   });\n",
       " require(['JSRootCore'],\n",
       "     function(Core) {\n",
       "       var obj = Core.JSONR_unref({\"_typename\":\"TCanvas\",\"fUniqueID\":0,\"fBits\":53673992,\"fLineColor\":1,\"fLineStyle\":1,\"fLineWidth\":1,\"fFillColor\":0,\"fFillStyle\":1001,\"fLeftMargin\":0.1,\"fRightMargin\":0.1,\"fBottomMargin\":0.1,\"fTopMargin\":0.1,\"fXfile\":2,\"fYfile\":2,\"fAfile\":1,\"fXstat\":0.99,\"fYstat\":0.99,\"fAstat\":2,\"fFrameFillColor\":0,\"fFrameLineColor\":1,\"fFrameFillStyle\":1001,\"fFrameLineStyle\":1,\"fFrameLineWidth\":1,\"fFrameBorderSize\":1,\"fFrameBorderMode\":0,\"fX1\":-0.125000009313226,\"fY1\":-0.00752907030035333,\"fX2\":1.12500000931323,\"fY2\":0.0677616282155045,\"fXtoAbsPixelk\":69.6000541484835,\"fXtoPixelk\":69.6000541484835,\"fXtoPixel\":556.799991703033,\"fYtoAbsPixelk\":424.800047186661,\"fYtoPixelk\":424.800047186661,\"fYtoPixel\":-6269.03467897282,\"fUtoAbsPixelk\":5e-5,\"fUtoPixelk\":5e-5,\"fUtoPixel\":696,\"fVtoAbsPixelk\":472.00005,\"fVtoPixelk\":472,\"fVtoPixel\":-472,\"fAbsPixeltoXk\":-0.125000009313226,\"fPixeltoXk\":-0.125000009313226,\"fPixeltoX\":0.0017959770382564,\"fAbsPixeltoYk\":0.0677616282155045,\"fPixeltoYk\":-0.00752907030035333,\"fPixeltoY\":-1.59514191770885e-4,\"fXlowNDC\":0,\"fYlowNDC\":0,\"fXUpNDC\":0,\"fYUpNDC\":0,\"fWNDC\":1,\"fHNDC\":1,\"fAbsXlowNDC\":0,\"fAbsYlowNDC\":0,\"fAbsWNDC\":1,\"fAbsHNDC\":1,\"fUxmin\":0,\"fUymin\":0,\"fUxmax\":1,\"fUymax\":0.0602325579151511,\"fTheta\":30,\"fPhi\":30,\"fAspectRatio\":0,\"fNumber\":0,\"fTickx\":0,\"fTicky\":0,\"fLogx\":0,\"fLogy\":0,\"fLogz\":0,\"fPadPaint\":0,\"fCrosshair\":0,\"fCrosshairPos\":0,\"fBorderSize\":2,\"fBorderMode\":0,\"fModified\":false,\"fGridx\":false,\"fGridy\":false,\"fAbsCoord\":false,\"fEditable\":true,\"fFixedAspectRatio\":false,\"fPrimitives\":{\"_typename\":\"TList\",\"name\":\"TList\",\"arr\":[{\"_typename\":\"TFrame\",\"fUniqueID\":0,\"fBits\":50331656,\"fLineColor\":1,\"fLineStyle\":1,\"fLineWidth\":1,\"fFillColor\":0,\"fFillStyle\":1001,\"fX1\":0,\"fY1\":0,\"fX2\":1,\"fY2\":0.0602325579151511,\"fBorderSize\":1,\"fBorderMode\":0},{\"_typename\":\"TH1F\",\"fUniqueID\":0,\"fBits\":50331656,\"fName\":\"h_tau32AK8\",\"fTitle\":\"AK8 Jet #tau_{3} \\/ #tau_{2}\",\"fLineColor\":2,\"fLineStyle\":1,\"fLineWidth\":1,\"fFillColor\":0,\"fFillStyle\":1001,\"fMarkerColor\":1,\"fMarkerStyle\":1,\"fMarkerSize\":1,\"fNcells\":102,\"fXaxis\":{\"_typename\":\"TAxis\",\"fUniqueID\":0,\"fBits\":50331648,\"fName\":\"xaxis\",\"fTitle\":\"#tau_{32}\",\"fNdivisions\":510,\"fAxisColor\":1,\"fLabelColor\":1,\"fLabelFont\":42,\"fLabelOffset\":0.005,\"fLabelSize\":0.035,\"fTickLength\":0.03,\"fTitleOffset\":1,\"fTitleSize\":0.035,\"fTitleColor\":1,\"fTitleFont\":42,\"fNbins\":100,\"fXmin\":0,\"fXmax\":1,\"fXbins\":[],\"fFirst\":0,\"fLast\":0,\"fBits2\":0,\"fTimeDisplay\":false,\"fTimeFormat\":\"\",\"fLabels\":null,\"fModLabs\":null},\"fYaxis\":{\"_typename\":\"TAxis\",\"fUniqueID\":0,\"fBits\":50331648,\"fName\":\"yaxis\",\"fTitle\":\"\",\"fNdivisions\":510,\"fAxisColor\":1,\"fLabelColor\":1,\"fLabelFont\":42,\"fLabelOffset\":0.005,\"fLabelSize\":0.035,\"fTickLength\":0.03,\"fTitleOffset\":0,\"fTitleSize\":0.035,\"fTitleColor\":1,\"fTitleFont\":42,\"fNbins\":1,\"fXmin\":0,\"fXmax\":1,\"fXbins\":[],\"fFirst\":0,\"fLast\":0,\"fBits2\":0,\"fTimeDisplay\":false,\"fTimeFormat\":\"\",\"fLabels\":null,\"fModLabs\":null},\"fZaxis\":{\"_typename\":\"TAxis\",\"fUniqueID\":0,\"fBits\":50331648,\"fName\":\"zaxis\",\"fTitle\":\"\",\"fNdivisions\":510,\"fAxisColor\":1,\"fLabelColor\":1,\"fLabelFont\":42,\"fLabelOffset\":0.005,\"fLabelSize\":0.035,\"fTickLength\":0.03,\"fTitleOffset\":1,\"fTitleSize\":0.035,\"fTitleColor\":1,\"fTitleFont\":42,\"fNbins\":1,\"fXmin\":0,\"fXmax\":1,\"fXbins\":[],\"fFirst\":0,\"fLast\":0,\"fBits2\":0,\"fTimeDisplay\":false,\"fTimeFormat\":\"\",\"fLabels\":null,\"fModLabs\":null},\"fBarOffset\":0,\"fBarWidth\":1000,\"fEntries\":3871,\"fTsumw\":3870,\"fTsumw2\":3870,\"fTsumwx\":3094.82961692703,\"fTsumwx2\":2503.4649584336,\"fMaximum\":-1111,\"fMinimum\":-1111,\"fNormFactor\":0,\"fContour\":[],\"fSumw2\":[0,0,0,0,0,0,0,0,0,0,0,0,0,0,0,0,0,0,0,0,0,0,6.67694916838598e-8,0,0,0,0,6.67694916838598e-8,0,0,0,6.67694916838598e-8,0,0,0,0,0,0,1.3353898336772e-7,0,0,0,0,6.67694916838598e-8,0,1.3353898336772e-7,0,6.67694916838598e-8,2.00308475051579e-7,1.3353898336772e-7,2.67077966735439e-7,3.33847458419299e-7,6.67694916838598e-7,6.00925425154738e-7,7.34464408522458e-7,4.00616950103159e-7,8.01233900206318e-7,7.34464408522458e-7,8.01233900206318e-7,9.34772883574037e-7,6.00925425154738e-7,1.06831186694176e-6,1.46892881704492e-6,1.80277627546421e-6,1.80277627546421e-6,1.60246780041264e-6,2.00308475051579e-6,2.80431865072211e-6,3.27170509250913e-6,3.00462712577369e-6,3.40524407587685e-6,4.74063390955405e-6,5.4750983180765e-6,5.4750983180765e-6,5.8089457764958e-6,7.27787459354072e-6,8.81357290226949e-6,9.28095934405651e-6,1.0015423752579e-5,1.08166576527853e-5,1.17514305363593e-5,1.43554407120299e-5,1.48228271538169e-5,1.40883627452944e-5,1.40215932536106e-5,1.32203593534042e-5,1.4288671220346e-5,1.20185085030948e-5,1.1884969519727e-5,1.0015423752579e-5,9.94865426089511e-6,6.87725764343756e-6,4.94094238460563e-6,4.00616950103159e-6,2.60401017567053e-6,8.68003391890177e-7,5.34155933470878e-7,2.00308475051579e-7,1.3353898336772e-7,6.67694916838598e-8,0,6.67694916838598e-8],\"fOption\":\"\",\"fFunctions\":{\"_typename\":\"TList\",\"name\":\"TList\",\"arr\":[{\"_typename\":\"TPaveStats\",\"fUniqueID\":0,\"fBits\":50331657,\"fLineColor\":1,\"fLineStyle\":1,\"fLineWidth\":1,\"fFillColor\":0,\"fFillStyle\":1001,\"fX1\":0.850000025331974,\"fY1\":0.050821221498204,\"fX2\":1.10000003278256,\"fY2\":0.0628677329914807,\"fX1NDC\":0.780000016093254,\"fY1NDC\":0.775000005960464,\"fX2NDC\":0.980000019073486,\"fY2NDC\":0.935000002384186,\"fBorderSize\":1,\"fInit\":1,\"fShadowColor\":1,\"fCornerRadius\":0,\"fOption\":\"brNDC\",\"fName\":\"stats\",\"fTextAngle\":0,\"fTextSize\":0,\"fTextAlign\":12,\"fTextColor\":1,\"fTextFont\":42,\"fLabel\":\"\",\"fLongest\":19,\"fMargin\":0.05,\"fLines\":{\"_typename\":\"TList\",\"name\":\"TList\",\"arr\":[{\"_typename\":\"TLatex\",\"fUniqueID\":0,\"fBits\":50331648,\"fName\":\"\",\"fTitle\":\"h_tau32AK8\",\"fTextAngle\":0,\"fTextSize\":0.0368,\"fTextAlign\":0,\"fTextColor\":0,\"fTextFont\":0,\"fX\":0,\"fY\":0,\"fLineColor\":1,\"fLineStyle\":1,\"fLineWidth\":2,\"fLimitFactorSize\":3,\"fOriginSize\":0.0368000008165836},{\"_typename\":\"TLatex\",\"fUniqueID\":0,\"fBits\":50331648,\"fName\":\"\",\"fTitle\":\"Entries = 3871   \",\"fTextAngle\":0,\"fTextSize\":0,\"fTextAlign\":0,\"fTextColor\":0,\"fTextFont\":0,\"fX\":0,\"fY\":0,\"fLineColor\":1,\"fLineStyle\":1,\"fLineWidth\":2,\"fLimitFactorSize\":3,\"fOriginSize\":0.04},{\"_typename\":\"TLatex\",\"fUniqueID\":0,\"fBits\":50331648,\"fName\":\"\",\"fTitle\":\"Mean  = 0.7997\",\"fTextAngle\":0,\"fTextSize\":0,\"fTextAlign\":0,\"fTextColor\":0,\"fTextFont\":0,\"fX\":0,\"fY\":0,\"fLineColor\":1,\"fLineStyle\":1,\"fLineWidth\":2,\"fLimitFactorSize\":3,\"fOriginSize\":0.04},{\"_typename\":\"TLatex\",\"fUniqueID\":0,\"fBits\":50331648,\"fName\":\"\",\"fTitle\":\"Std Dev   = 0.08587\",\"fTextAngle\":0,\"fTextSize\":0,\"fTextAlign\":0,\"fTextColor\":0,\"fTextFont\":0,\"fX\":0,\"fY\":0,\"fLineColor\":1,\"fLineStyle\":1,\"fLineWidth\":2,\"fLimitFactorSize\":3,\"fOriginSize\":0.04}],\"opt\":[\"\",\"\",\"\",\"\"]},\"fOptFit\":0,\"fOptStat\":1111,\"fFitFormat\":\"5.4g\",\"fStatFormat\":\"6.4g\",\"fParent\":{\"$ref\":3}}],\"opt\":[\"brNDC\"]},\"fBufferSize\":0,\"fBuffer\":[],\"fBinStatErrOpt\":0,\"fStatOverflows\":2,\"fArray\":[0,0,0,0,0,0,0,0,0,0,0,0,0,0,0,0,0,0,0,0,0,0,2.583979e-4,0,0,0,0,2.583979e-4,0,0,0,2.583979e-4,0,0,0,0,0,0,5.167958e-4,0,0,0,0,2.583979e-4,0,5.167958e-4,0,2.583979e-4,7.751938e-4,5.167958e-4,0.001033592,0.00129199,0.002583979,0.002325581,0.002842377,0.001550388,0.003100775,0.002842377,0.003100775,0.003617571,0.002325581,0.004134367,0.005684754,0.006976744,0.006976744,0.00620155,0.007751938,0.01085271,0.0126615,0.01162791,0.01317829,0.01834625,0.02118863,0.02118863,0.02248062,0.02816537,0.03410853,0.03591731,0.03875969,0.04186046,0.04547803,0.05555556,0.05736434,0.05452196,0.05426357,0.05116279,0.05529716,0.04651163,0.04599483,0.03875969,0.03850129,0.02661499,0.01912145,0.01550388,0.01007752,0.003359173,0.002067183,7.751938e-4,5.167958e-4,2.583979e-4,0,2.583979e-4]},{\"_typename\":\"TH1F\",\"fUniqueID\":0,\"fBits\":50331656,\"fName\":\"h_tau32AK8\",\"fTitle\":\"AK8 Jet #tau_{3} \\/ #tau_{2}\",\"fLineColor\":1,\"fLineStyle\":1,\"fLineWidth\":1,\"fFillColor\":0,\"fFillStyle\":1001,\"fMarkerColor\":1,\"fMarkerStyle\":1,\"fMarkerSize\":1,\"fNcells\":102,\"fXaxis\":{\"_typename\":\"TAxis\",\"fUniqueID\":0,\"fBits\":50331648,\"fName\":\"xaxis\",\"fTitle\":\"#tau_{32}\",\"fNdivisions\":510,\"fAxisColor\":1,\"fLabelColor\":1,\"fLabelFont\":42,\"fLabelOffset\":0.005,\"fLabelSize\":0.035,\"fTickLength\":0.03,\"fTitleOffset\":1,\"fTitleSize\":0.035,\"fTitleColor\":1,\"fTitleFont\":42,\"fNbins\":100,\"fXmin\":0,\"fXmax\":1,\"fXbins\":[],\"fFirst\":0,\"fLast\":0,\"fBits2\":0,\"fTimeDisplay\":false,\"fTimeFormat\":\"\",\"fLabels\":null,\"fModLabs\":null},\"fYaxis\":{\"_typename\":\"TAxis\",\"fUniqueID\":0,\"fBits\":50331656,\"fName\":\"yaxis\",\"fTitle\":\"\",\"fNdivisions\":510,\"fAxisColor\":1,\"fLabelColor\":1,\"fLabelFont\":42,\"fLabelOffset\":0.005,\"fLabelSize\":0.035,\"fTickLength\":0.03,\"fTitleOffset\":0,\"fTitleSize\":0.035,\"fTitleColor\":1,\"fTitleFont\":42,\"fNbins\":1,\"fXmin\":0,\"fXmax\":1,\"fXbins\":[],\"fFirst\":0,\"fLast\":0,\"fBits2\":0,\"fTimeDisplay\":false,\"fTimeFormat\":\"\",\"fLabels\":null,\"fModLabs\":null},\"fZaxis\":{\"_typename\":\"TAxis\",\"fUniqueID\":0,\"fBits\":50331648,\"fName\":\"zaxis\",\"fTitle\":\"\",\"fNdivisions\":510,\"fAxisColor\":1,\"fLabelColor\":1,\"fLabelFont\":42,\"fLabelOffset\":0.005,\"fLabelSize\":0.035,\"fTickLength\":0.03,\"fTitleOffset\":1,\"fTitleSize\":0.035,\"fTitleColor\":1,\"fTitleFont\":42,\"fNbins\":1,\"fXmin\":0,\"fXmax\":1,\"fXbins\":[],\"fFirst\":0,\"fLast\":0,\"fBits2\":0,\"fTimeDisplay\":false,\"fTimeFormat\":\"\",\"fLabels\":null,\"fModLabs\":null},\"fBarOffset\":0,\"fBarWidth\":1000,\"fEntries\":3164,\"fTsumw\":3164,\"fTsumw2\":3164,\"fTsumwx\":2113.25523462571,\"fTsumwx2\":1503.13727291289,\"fMaximum\":0.0602325579151511,\"fMinimum\":0,\"fNormFactor\":0,\"fContour\":[],\"fSumw2\":[0,0,0,0,0,0,0,0,0,0,0,0,0,0,0,0,0,0,2.99673475780789e-7,9.98911585935964e-8,0,1.99782317187193e-7,0,2.99673475780789e-7,9.98911585935964e-8,1.09880274452956e-6,6.99238110155175e-7,1.09880274452956e-6,1.09880274452956e-6,7.99129268748771e-7,1.59825853749754e-6,1.39847622031035e-6,1.29858506171675e-6,9.98911585935964e-7,1.29858506171675e-6,1.69814969609114e-6,2.49727896483991e-6,2.29749664765272e-6,2.6970612820271e-6,2.39738780624631e-6,4.29531981952465e-6,2.99673475780789e-6,3.39629939218228e-6,3.19651707499509e-6,2.59717012343351e-6,2.39738780624631e-6,3.29640823358868e-6,3.29640823358868e-6,3.69597286796307e-6,3.59608170936947e-6,4.09553750233745e-6,4.19542866093105e-6,3.59608170936947e-6,4.49510213671184e-6,2.8968435992143e-6,4.49510213671184e-6,4.29531981952465e-6,4.39521097811824e-6,5.5939048812414e-6,4.69488445389903e-6,5.5939048812414e-6,4.89466677108623e-6,4.99455792967982e-6,4.79477561249263e-6,5.4940137226478e-6,5.19434024686701e-6,5.4940137226478e-6,5.39412256405421e-6,5.89357835702219e-6,4.19542866093105e-6,5.79368719842859e-6,4.59499329530544e-6,7.39194573592614e-6,7.39194573592614e-6,6.79259878436456e-6,6.29314299139658e-6,7.19216341873894e-6,8.3908573218621e-6,7.69161921170692e-6,9.09009543201728e-6,8.79042195623649e-6,8.3908573218621e-6,8.2909661632685e-6,1.00890070179532e-5,7.19216341873894e-6,7.59172805311333e-6,6.89248994295815e-6,7.69161921170692e-6,7.19216341873894e-6,4.39521097811824e-6,4.79477561249263e-6,3.69597286796307e-6,3.39629939218228e-6,1.59825853749754e-6,1.79804085468474e-6,1.59825853749754e-6,3.99564634374386e-7,1.99782317187193e-7,0,0,0,0],\"fOption\":\"\",\"fFunctions\":{\"_typename\":\"TList\",\"name\":\"TList\",\"arr\":[],\"opt\":[]},\"fBufferSize\":0,\"fBuffer\":[],\"fBinStatErrOpt\":0,\"fStatOverflows\":2,\"fArray\":[0,0,0,0,0,0,0,0,0,0,0,0,0,0,0,0,0,0,9.481669e-4,3.160556e-4,0,6.321113e-4,0,9.481669e-4,3.160556e-4,0.003476612,0.002212389,0.003476612,0.003476612,0.002528445,0.00505689,0.004424779,0.004108723,0.003160556,0.004108723,0.005372946,0.007901391,0.00726928,0.008533502,0.007585335,0.01359039,0.009481668,0.01074589,0.01011378,0.008217447,0.007585335,0.01042984,0.01042984,0.01169406,0.011378,0.01295828,0.01327434,0.011378,0.0142225,0.009165613,0.0142225,0.01359039,0.01390645,0.01769911,0.01485461,0.01769911,0.01548673,0.01580278,0.01517067,0.01738306,0.01643489,0.01738306,0.017067,0.01864728,0.01327434,0.01833123,0.01453856,0.02338812,0.02338812,0.02149178,0.01991151,0.022756,0.02654867,0.02433628,0.02876106,0.02781289,0.02654867,0.02623262,0.03192162,0.022756,0.02402023,0.02180784,0.02433628,0.022756,0.01390645,0.01517067,0.01169406,0.01074589,0.00505689,0.005689001,0.00505689,0.001264223,6.321113e-4,0,0,0,0]},{\"_typename\":\"TLegend\",\"fUniqueID\":0,\"fBits\":50331656,\"fLineColor\":1,\"fLineStyle\":1,\"fLineWidth\":1,\"fFillColor\":0,\"fFillStyle\":1001,\"fX1\":0.0624999934807416,\"fY1\":0.0376453488091613,\"fX2\":0.312499997206032,\"fY2\":0.0527034885123329,\"fX1NDC\":0.15,\"fY1NDC\":0.6,\"fX2NDC\":0.35,\"fY2NDC\":0.8,\"fBorderSize\":0,\"fInit\":1,\"fShadowColor\":1,\"fCornerRadius\":0,\"fOption\":\"brNDC\",\"fName\":\"TPave\",\"fTextAngle\":0,\"fTextSize\":0,\"fTextAlign\":12,\"fTextColor\":1,\"fTextFont\":42,\"fPrimitives\":{\"_typename\":\"TList\",\"name\":\"TList\",\"arr\":[{\"_typename\":\"TLegendEntry\",\"fUniqueID\":0,\"fBits\":50331656,\"fTextAngle\":0,\"fTextSize\":0,\"fTextAlign\":0,\"fTextColor\":0,\"fTextFont\":42,\"fLineColor\":1,\"fLineStyle\":1,\"fLineWidth\":1,\"fFillColor\":0,\"fFillStyle\":0,\"fMarkerColor\":1,\"fMarkerStyle\":21,\"fMarkerSize\":1,\"fObject\":{\"$ref\":14},\"fLabel\":\"RS KK Gluon\",\"fOption\":\"l\"},{\"_typename\":\"TLegendEntry\",\"fUniqueID\":0,\"fBits\":50331656,\"fTextAngle\":0,\"fTextSize\":0,\"fTextAlign\":0,\"fTextColor\":0,\"fTextFont\":42,\"fLineColor\":2,\"fLineStyle\":1,\"fLineWidth\":1,\"fFillColor\":0,\"fFillStyle\":0,\"fMarkerColor\":1,\"fMarkerStyle\":21,\"fMarkerSize\":1,\"fObject\":{\"$ref\":3},\"fLabel\":\"QCD\",\"fOption\":\"l\"}],\"opt\":[\"l\",\"l\"]},\"fEntrySeparation\":0.1,\"fMargin\":0.25,\"fNColumns\":1,\"fColumnSeparation\":0},{\"_typename\":\"TPaveText\",\"fUniqueID\":0,\"fBits\":50331657,\"fLineColor\":1,\"fLineStyle\":1,\"fLineWidth\":1,\"fFillColor\":0,\"fFillStyle\":0,\"fX1\":0.339331894157583,\"fY1\":0.0622169152685625,\"fX2\":0.660668105842417,\"fY2\":0.0673851750819392,\"fX1NDC\":0.371465517241379,\"fY1NDC\":0.926355936971761,\"fX2NDC\":0.628534482758621,\"fY2NDC\":0.995000004768372,\"fBorderSize\":0,\"fInit\":1,\"fShadowColor\":1,\"fCornerRadius\":0,\"fOption\":\"blNDC\",\"fName\":\"title\",\"fTextAngle\":0,\"fTextSize\":0,\"fTextAlign\":22,\"fTextColor\":1,\"fTextFont\":42,\"fLabel\":\"\",\"fLongest\":27,\"fMargin\":0.05,\"fLines\":{\"_typename\":\"TList\",\"name\":\"TList\",\"arr\":[{\"_typename\":\"TLatex\",\"fUniqueID\":0,\"fBits\":50331648,\"fName\":\"\",\"fTitle\":\"AK8 Jet #tau_{3} \\/ #tau_{2}\",\"fTextAngle\":0,\"fTextSize\":0,\"fTextAlign\":0,\"fTextColor\":0,\"fTextFont\":0,\"fX\":0,\"fY\":0,\"fLineColor\":1,\"fLineStyle\":1,\"fLineWidth\":2,\"fLimitFactorSize\":3,\"fOriginSize\":0.0583474561572075}],\"opt\":[\"\"]}}],\"opt\":[\"\",\"hist\",\"same hist\",\"\",\"blNDC\"]},\"fExecs\":null,\"fName\":\"c_tau32\",\"fTitle\":\"c_tau32\",\"fNumPaletteColor\":0,\"fNextPaletteColor\":0,\"fDISPLAY\":\"$DISPLAY\",\"fDoubleBuffer\":0,\"fRetained\":true,\"fXsizeUser\":0,\"fYsizeUser\":0,\"fXsizeReal\":20,\"fYsizeReal\":14.28571,\"fWindowTopX\":0,\"fWindowTopY\":0,\"fWindowWidth\":0,\"fWindowHeight\":0,\"fCw\":696,\"fCh\":472,\"fCatt\":{\"_typename\":\"TAttCanvas\",\"fXBetween\":2,\"fYBetween\":2,\"fTitleFromTop\":1.2,\"fXdate\":0.2,\"fYdate\":0.3,\"fAdate\":1},\"kMoveOpaque\":true,\"kResizeOpaque\":true,\"fHighLightColor\":2,\"fBatch\":true,\"kShowEventStatus\":false,\"kAutoExec\":true,\"kMenuBar\":true});\n",
       "       Core.draw(\"root_plot_39\", obj, \"\");\n",
       "     }\n",
       " );\n",
       "</script>\n"
      ],
      "text/plain": [
       "<IPython.core.display.HTML object>"
      ]
     },
     "metadata": {},
     "output_type": "display_data"
    }
   ],
   "source": [
    "import ROOT\n",
    "\n",
    "f1 = ROOT.TFile(\"$CMSSW_BASE/src/Analysis/JMEDAS/notebooks/files/rsgluon_ttbar_3TeV.root\")\n",
    "f2 = ROOT.TFile(\"$CMSSW_BASE/src/Analysis/JMEDAS/notebooks/files/QCD_Pt_300to470.root\")\n",
    "\n",
    "h_tau32AK8_1 = f1.Get(\"h_tau32AK8\")\n",
    "h_tau32AK8_2 = f2.Get(\"h_tau32AK8\")\n",
    "\n",
    "h_tau32AK8_1.SetLineColor(1)\n",
    "h_tau32AK8_2.SetLineColor(2)\n",
    "\n",
    "leg = ROOT.TLegend(0.15, 0.6, 0.35, 0.8)\n",
    "leg.SetFillColor(0)\n",
    "leg.SetBorderSize(0)\n",
    "leg.AddEntry( h_tau32AK8_1, \"RS KK Gluon\", 'l')\n",
    "leg.AddEntry( h_tau32AK8_2, \"QCD\", 'l')\n",
    "\n",
    "h_tau32AK8_1.Sumw2()\n",
    "h_tau32AK8_1.Scale(1.0 / h_tau32AK8_1.Integral() )\n",
    "h_tau32AK8_2.Sumw2()\n",
    "h_tau32AK8_2.Scale(1.0 / h_tau32AK8_2.Integral() )\n",
    "\n",
    "c_tau32 = ROOT.TCanvas('c_tau32', 'c_tau32') \n",
    "h_tau32AK8_1.GetYaxis().SetRangeUser(0., max([h_tau32AK8_1.GetMaximum(), h_tau32AK8_2.GetMaximum()]) * 1.05)\n",
    "h_tau32AK8_2.Draw(\"hist\")\n",
    "h_tau32AK8_1.Draw(\"same hist\")\n",
    "leg.Draw()\n",
    "c_tau32.Draw()"
   ]
  },
  {
   "cell_type": "markdown",
   "metadata": {},
   "source": [
    "Now compare the energy correlation function N3b1:\n",
    "<details>\n",
    "<summary>\n",
    "    <font color='blue'>Show answer...</font>\n",
    "</summary>\n",
    "The plot should look like this:\n",
    "\n",
    "<img src=\"../files/ak8N3b1_topvqcd.png\" width=400px/>\n",
    "</details>"
   ]
  },
  {
   "cell_type": "code",
   "execution_count": 52,
   "metadata": {},
   "outputs": [
    {
     "data": {
      "text/html": [
       "\n",
       "<div id=\"root_plot_40\"\n",
       "     style=\"width: 696px; height: 472px\">\n",
       "</div>\n",
       "\n",
       "<script>\n",
       " requirejs.config({\n",
       "     paths: {\n",
       "       'JSRootCore' : 'https://root.cern.ch/js/notebook//scripts/JSRootCore',\n",
       "     }\n",
       "   });\n",
       " require(['JSRootCore'],\n",
       "     function(Core) {\n",
       "       var obj = Core.JSONR_unref({\"_typename\":\"TCanvas\",\"fUniqueID\":0,\"fBits\":53673992,\"fLineColor\":1,\"fLineStyle\":1,\"fLineWidth\":1,\"fFillColor\":0,\"fFillStyle\":1001,\"fLeftMargin\":0.1,\"fRightMargin\":0.1,\"fBottomMargin\":0.1,\"fTopMargin\":0.1,\"fXfile\":2,\"fYfile\":2,\"fAfile\":1,\"fXstat\":0.99,\"fYstat\":0.99,\"fAstat\":2,\"fFrameFillColor\":0,\"fFrameLineColor\":1,\"fFrameFillStyle\":1001,\"fFrameLineStyle\":1,\"fFrameLineWidth\":1,\"fFrameBorderSize\":1,\"fFrameBorderMode\":0,\"fX1\":-0.375000027939679,\"fY1\":-0.00870939721050837,\"fX2\":3.37500002793968,\"fY2\":0.0783845697033701,\"fXtoAbsPixelk\":69.6000541484835,\"fXtoPixelk\":69.6000541484835,\"fXtoPixel\":185.599997234344,\"fYtoAbsPixelk\":424.800047186661,\"fYtoPixelk\":424.800047186661,\"fYtoPixel\":-5419.43393698819,\"fUtoAbsPixelk\":5e-5,\"fUtoPixelk\":5e-5,\"fUtoPixel\":696,\"fVtoAbsPixelk\":472.00005,\"fVtoPixelk\":472,\"fVtoPixel\":-472,\"fAbsPixeltoXk\":-0.375000027939679,\"fPixeltoXk\":-0.375000027939679,\"fPixeltoX\":0.00538793111476919,\"fAbsPixeltoYk\":0.0783845697033701,\"fPixeltoYk\":-0.00870939721050837,\"fPixeltoY\":-1.84521116342963e-4,\"fXlowNDC\":0,\"fYlowNDC\":0,\"fXUpNDC\":0,\"fYUpNDC\":0,\"fWNDC\":1,\"fHNDC\":1,\"fAbsXlowNDC\":0,\"fAbsYlowNDC\":0,\"fAbsWNDC\":1,\"fAbsHNDC\":1,\"fUxmin\":0,\"fUymin\":0,\"fUxmax\":3,\"fUymax\":0.0696751724928617,\"fTheta\":30,\"fPhi\":30,\"fAspectRatio\":0,\"fNumber\":0,\"fTickx\":0,\"fTicky\":0,\"fLogx\":0,\"fLogy\":0,\"fLogz\":0,\"fPadPaint\":0,\"fCrosshair\":0,\"fCrosshairPos\":0,\"fBorderSize\":2,\"fBorderMode\":0,\"fModified\":false,\"fGridx\":false,\"fGridy\":false,\"fAbsCoord\":false,\"fEditable\":true,\"fFixedAspectRatio\":false,\"fPrimitives\":{\"_typename\":\"TList\",\"name\":\"TList\",\"arr\":[{\"_typename\":\"TFrame\",\"fUniqueID\":0,\"fBits\":50331656,\"fLineColor\":1,\"fLineStyle\":1,\"fLineWidth\":1,\"fFillColor\":0,\"fFillStyle\":1001,\"fX1\":0,\"fY1\":0,\"fX2\":3,\"fY2\":0.0696751724928617,\"fBorderSize\":1,\"fBorderMode\":0},{\"_typename\":\"TH1F\",\"fUniqueID\":0,\"fBits\":50331656,\"fName\":\"h_ak8_N3_beta1\",\"fTitle\":\"AK8 N3_beta1\",\"fLineColor\":1,\"fLineStyle\":1,\"fLineWidth\":1,\"fFillColor\":0,\"fFillStyle\":1001,\"fMarkerColor\":1,\"fMarkerStyle\":1,\"fMarkerSize\":1,\"fNcells\":102,\"fXaxis\":{\"_typename\":\"TAxis\",\"fUniqueID\":0,\"fBits\":50331648,\"fName\":\"xaxis\",\"fTitle\":\"N_{3}^{#beta=1}\",\"fNdivisions\":510,\"fAxisColor\":1,\"fLabelColor\":1,\"fLabelFont\":42,\"fLabelOffset\":0.005,\"fLabelSize\":0.035,\"fTickLength\":0.03,\"fTitleOffset\":1,\"fTitleSize\":0.035,\"fTitleColor\":1,\"fTitleFont\":42,\"fNbins\":100,\"fXmin\":0,\"fXmax\":3,\"fXbins\":[],\"fFirst\":0,\"fLast\":0,\"fBits2\":0,\"fTimeDisplay\":false,\"fTimeFormat\":\"\",\"fLabels\":null,\"fModLabs\":null},\"fYaxis\":{\"_typename\":\"TAxis\",\"fUniqueID\":0,\"fBits\":50331656,\"fName\":\"yaxis\",\"fTitle\":\"\",\"fNdivisions\":510,\"fAxisColor\":1,\"fLabelColor\":1,\"fLabelFont\":42,\"fLabelOffset\":0.005,\"fLabelSize\":0.035,\"fTickLength\":0.03,\"fTitleOffset\":0,\"fTitleSize\":0.035,\"fTitleColor\":1,\"fTitleFont\":42,\"fNbins\":1,\"fXmin\":0,\"fXmax\":1,\"fXbins\":[],\"fFirst\":0,\"fLast\":0,\"fBits2\":0,\"fTimeDisplay\":false,\"fTimeFormat\":\"\",\"fLabels\":null,\"fModLabs\":null},\"fZaxis\":{\"_typename\":\"TAxis\",\"fUniqueID\":0,\"fBits\":50331648,\"fName\":\"zaxis\",\"fTitle\":\"\",\"fNdivisions\":510,\"fAxisColor\":1,\"fLabelColor\":1,\"fLabelFont\":42,\"fLabelOffset\":0.005,\"fLabelSize\":0.035,\"fTickLength\":0.03,\"fTitleOffset\":1,\"fTitleSize\":0.035,\"fTitleColor\":1,\"fTitleFont\":42,\"fNbins\":1,\"fXmin\":0,\"fXmax\":1,\"fXbins\":[],\"fFirst\":0,\"fLast\":0,\"fBits2\":0,\"fTimeDisplay\":false,\"fTimeFormat\":\"\",\"fLabels\":null,\"fModLabs\":null},\"fBarOffset\":0,\"fBarWidth\":1000,\"fEntries\":3164,\"fTsumw\":2527,\"fTsumw2\":2527,\"fTsumwx\":3916.18078866601,\"fTsumwx2\":6368.96141303646,\"fMaximum\":0.0696751724928617,\"fMinimum\":0,\"fNormFactor\":0,\"fContour\":[],\"fSumw2\":[9.63085029132931e-5,0,0,0,0,0,0,0,0,0,0,1.56599191728932e-7,0,0,3.13198383457864e-7,1.56599191728932e-7,0,3.13198383457864e-7,4.69797575186795e-7,0,1.56599191728932e-7,1.56599191728932e-7,0,1.56599191728932e-7,1.56599191728932e-7,4.69797575186795e-7,3.13198383457864e-7,1.56599191728932e-7,9.39595150373591e-7,6.26396766915727e-7,1.56599191728932e-6,9.39595150373591e-7,1.72259110901825e-6,1.87919030074718e-6,1.87919030074718e-6,4.07157898495223e-6,3.75838060149436e-6,4.85457494359689e-6,6.10736847742834e-6,5.48097171051261e-6,4.69797575186796e-6,8.29975716163339e-6,9.08275312027805e-6,1.36241296804171e-5,1.3780728872146e-5,1.40939272556039e-5,1.78523078570982e-5,1.75391094736404e-5,1.8322105432285e-5,2.19238868420505e-5,1.94182997743875e-5,1.8322105432285e-5,1.78523078570982e-5,1.89485021992008e-5,1.612971674808e-5,1.40939272556039e-5,1.19015385713988e-5,8.92615392854911e-6,9.39595150373591e-6,6.4205668608862e-6,7.3601620112598e-6,7.51676120298873e-6,6.57716605261514e-6,6.4205668608862e-6,4.54137656013902e-6,3.4451822180365e-6,3.28858302630757e-6,3.4451822180365e-6,3.13198383457864e-6,2.34898787593398e-6,2.50558706766291e-6,2.34898787593398e-6,1.40939272556039e-6,1.87919030074718e-6,2.03578949247611e-6,1.72259110901825e-6,1.25279353383145e-6,1.25279353383145e-6,1.87919030074718e-6,1.40939272556039e-6,1.09619434210252e-6,1.25279353383145e-6,4.69797575186795e-7,7.82995958644659e-7,1.87919030074718e-6,7.82995958644659e-7,3.13198383457864e-7,7.82995958644659e-7,9.39595150373591e-7,0,7.82995958644659e-7,4.69797575186795e-7,1.56599191728932e-7,3.13198383457864e-7,1.56599191728932e-7,4.69797575186795e-7,3.13198383457864e-7,3.13198383457864e-7,3.13198383457864e-7,6.26396766915727e-7,3.13198383457864e-7,3.4451822180365e-6],\"fOption\":\"\",\"fFunctions\":{\"_typename\":\"TList\",\"name\":\"TList\",\"arr\":[{\"_typename\":\"TPaveStats\",\"fUniqueID\":0,\"fBits\":50331657,\"fLineColor\":1,\"fLineStyle\":1,\"fLineWidth\":1,\"fFillColor\":0,\"fFillStyle\":1001,\"fX1\":2.55000007599592,\"fY1\":0.058788427666868,\"fX2\":3.30000009834767,\"fY2\":0.0727234620616162,\"fX1NDC\":0.780000016093254,\"fY1NDC\":0.775000005960464,\"fX2NDC\":0.980000019073486,\"fY2NDC\":0.935000002384186,\"fBorderSize\":1,\"fInit\":1,\"fShadowColor\":1,\"fCornerRadius\":0,\"fOption\":\"brNDC\",\"fName\":\"stats\",\"fTextAngle\":0,\"fTextSize\":0,\"fTextAlign\":12,\"fTextColor\":1,\"fTextFont\":42,\"fLabel\":\"\",\"fLongest\":18,\"fMargin\":0.05,\"fLines\":{\"_typename\":\"TList\",\"name\":\"TList\",\"arr\":[{\"_typename\":\"TLatex\",\"fUniqueID\":0,\"fBits\":50331648,\"fName\":\"\",\"fTitle\":\"h_ak8_N3_beta1\",\"fTextAngle\":0,\"fTextSize\":0.0368,\"fTextAlign\":0,\"fTextColor\":0,\"fTextFont\":0,\"fX\":0,\"fY\":0,\"fLineColor\":1,\"fLineStyle\":1,\"fLineWidth\":2,\"fLimitFactorSize\":3,\"fOriginSize\":0.0368000008165836},{\"_typename\":\"TLatex\",\"fUniqueID\":0,\"fBits\":50331648,\"fName\":\"\",\"fTitle\":\"Entries = 3164   \",\"fTextAngle\":0,\"fTextSize\":0,\"fTextAlign\":0,\"fTextColor\":0,\"fTextFont\":0,\"fX\":0,\"fY\":0,\"fLineColor\":1,\"fLineStyle\":1,\"fLineWidth\":2,\"fLimitFactorSize\":3,\"fOriginSize\":0.04},{\"_typename\":\"TLatex\",\"fUniqueID\":0,\"fBits\":50331648,\"fName\":\"\",\"fTitle\":\"Mean  =   1.55\",\"fTextAngle\":0,\"fTextSize\":0,\"fTextAlign\":0,\"fTextColor\":0,\"fTextFont\":0,\"fX\":0,\"fY\":0,\"fLineColor\":1,\"fLineStyle\":1,\"fLineWidth\":2,\"fLimitFactorSize\":3,\"fOriginSize\":0.04},{\"_typename\":\"TLatex\",\"fUniqueID\":0,\"fBits\":50331648,\"fName\":\"\",\"fTitle\":\"Std Dev   = 0.3445\",\"fTextAngle\":0,\"fTextSize\":0,\"fTextAlign\":0,\"fTextColor\":0,\"fTextFont\":0,\"fX\":0,\"fY\":0,\"fLineColor\":1,\"fLineStyle\":1,\"fLineWidth\":2,\"fLimitFactorSize\":3,\"fOriginSize\":0.04}],\"opt\":[\"\",\"\",\"\",\"\"]},\"fOptFit\":0,\"fOptStat\":1111,\"fFitFormat\":\"5.4g\",\"fStatFormat\":\"6.4g\",\"fParent\":{\"$ref\":3}}],\"opt\":[\"brNDC\"]},\"fBufferSize\":0,\"fBuffer\":[],\"fBinStatErrOpt\":0,\"fStatOverflows\":2,\"fArray\":[0.2433716,0,0,0,0,0,0,0,0,0,0,3.957262e-4,0,0,7.914523e-4,3.957262e-4,0,7.914523e-4,0.001187178,0,3.957262e-4,3.957262e-4,0,3.957262e-4,3.957262e-4,0.001187178,7.914523e-4,3.957262e-4,0.002374357,0.001582905,0.003957262,0.002374357,0.004352988,0.004748714,0.004748714,0.01028888,0.009497427,0.01226751,0.01543332,0.01385042,0.01187178,0.02097349,0.02295212,0.03442818,0.0348239,0.03561535,0.04511278,0.04432133,0.04629996,0.05540166,0.04907005,0.04629996,0.04511278,0.04788287,0.04075979,0.03561535,0.03007519,0.02255639,0.02374357,0.01622477,0.01859913,0.01899485,0.0166205,0.01622477,0.01147606,0.008705975,0.008310249,0.008705975,0.007914524,0.005935892,0.006331618,0.005935892,0.003561535,0.004748714,0.00514444,0.004352988,0.003165809,0.003165809,0.004748714,0.003561535,0.002770083,0.003165809,0.001187178,0.001978631,0.004748714,0.001978631,7.914523e-4,0.001978631,0.002374357,0,0.001978631,0.001187178,3.957262e-4,7.914523e-4,3.957262e-4,0.001187178,7.914523e-4,7.914523e-4,7.914523e-4,0.001582905,7.914523e-4,0.008705975]},{\"_typename\":\"TH1F\",\"fUniqueID\":0,\"fBits\":50331656,\"fName\":\"h_ak8_N3_beta1\",\"fTitle\":\"AK8 N3_beta1\",\"fLineColor\":2,\"fLineStyle\":1,\"fLineWidth\":1,\"fFillColor\":0,\"fFillStyle\":1001,\"fMarkerColor\":1,\"fMarkerStyle\":1,\"fMarkerSize\":1,\"fNcells\":102,\"fXaxis\":{\"_typename\":\"TAxis\",\"fUniqueID\":0,\"fBits\":50331648,\"fName\":\"xaxis\",\"fTitle\":\"N_{3}^{#beta=1}\",\"fNdivisions\":510,\"fAxisColor\":1,\"fLabelColor\":1,\"fLabelFont\":42,\"fLabelOffset\":0.005,\"fLabelSize\":0.035,\"fTickLength\":0.03,\"fTitleOffset\":1,\"fTitleSize\":0.035,\"fTitleColor\":1,\"fTitleFont\":42,\"fNbins\":100,\"fXmin\":0,\"fXmax\":3,\"fXbins\":[],\"fFirst\":0,\"fLast\":0,\"fBits2\":0,\"fTimeDisplay\":false,\"fTimeFormat\":\"\",\"fLabels\":null,\"fModLabs\":null},\"fYaxis\":{\"_typename\":\"TAxis\",\"fUniqueID\":0,\"fBits\":50331648,\"fName\":\"yaxis\",\"fTitle\":\"\",\"fNdivisions\":510,\"fAxisColor\":1,\"fLabelColor\":1,\"fLabelFont\":42,\"fLabelOffset\":0.005,\"fLabelSize\":0.035,\"fTickLength\":0.03,\"fTitleOffset\":0,\"fTitleSize\":0.035,\"fTitleColor\":1,\"fTitleFont\":42,\"fNbins\":1,\"fXmin\":0,\"fXmax\":1,\"fXbins\":[],\"fFirst\":0,\"fLast\":0,\"fBits2\":0,\"fTimeDisplay\":false,\"fTimeFormat\":\"\",\"fLabels\":null,\"fModLabs\":null},\"fZaxis\":{\"_typename\":\"TAxis\",\"fUniqueID\":0,\"fBits\":50331648,\"fName\":\"zaxis\",\"fTitle\":\"\",\"fNdivisions\":510,\"fAxisColor\":1,\"fLabelColor\":1,\"fLabelFont\":42,\"fLabelOffset\":0.005,\"fLabelSize\":0.035,\"fTickLength\":0.03,\"fTitleOffset\":1,\"fTitleSize\":0.035,\"fTitleColor\":1,\"fTitleFont\":42,\"fNbins\":1,\"fXmin\":0,\"fXmax\":1,\"fXbins\":[],\"fFirst\":0,\"fLast\":0,\"fBits2\":0,\"fTimeDisplay\":false,\"fTimeFormat\":\"\",\"fLabels\":null,\"fModLabs\":null},\"fBarOffset\":0,\"fBarWidth\":1000,\"fEntries\":3871,\"fTsumw\":2155,\"fTsumw2\":2155,\"fTsumwx\":3396.30122849345,\"fTsumwx2\":5659.82359617921,\"fMaximum\":-1111,\"fMinimum\":-1111,\"fNormFactor\":0,\"fContour\":[],\"fSumw2\":[3.68215072054952e-4,0,0,2.15330451494124e-7,0,0,2.15330451494124e-7,0,0,4.30660902988248e-7,2.15330451494124e-7,2.15330451494124e-7,0,4.30660902988248e-7,0,4.30660902988248e-7,8.61321805976497e-7,0,2.15330451494124e-7,4.30660902988248e-7,2.15330451494124e-7,2.15330451494124e-7,4.30660902988248e-7,1.07665225747062e-6,1.07665225747062e-6,2.15330451494124e-7,1.07665225747062e-6,2.79929586942361e-6,1.72264361195299e-6,1.50731316045887e-6,1.72264361195299e-6,2.58396541792949e-6,1.93797406344712e-6,1.93797406344712e-6,2.36863496643537e-6,2.79929586942361e-6,3.01462632091774e-6,3.22995677241186e-6,3.87594812689423e-6,4.52193948137661e-6,4.52193948137661e-6,6.67524399631785e-6,9.90520076872971e-6,8.82854851125909e-6,1.2058505283671e-5,1.37811488956239e-5,1.87337492799888e-5,1.93797406344712e-5,2.62703150822831e-5,2.19637060524007e-5,3.07922545636598e-5,1.89490797314829e-5,2.32556887613654e-5,1.93797406344712e-5,1.83030883770006e-5,1.24891661866592e-5,1.39964793471181e-5,1.07665225747062e-5,1.42118097986122e-5,8.18255715677672e-6,7.96722670528259e-6,1.09818530262003e-5,9.90520076872971e-6,6.89057444781197e-6,5.3832612873531e-6,7.96722670528259e-6,4.95260038436486e-6,4.30660902988248e-6,4.95260038436486e-6,3.22995677241186e-6,1.72264361195299e-6,3.44528722390599e-6,3.44528722390599e-6,1.93797406344712e-6,2.36863496643537e-6,3.01462632091774e-6,2.15330451494124e-6,1.07665225747062e-6,1.93797406344712e-6,2.36863496643537e-6,1.72264361195299e-6,1.93797406344712e-6,2.15330451494124e-6,1.29198270896474e-6,1.72264361195299e-6,8.61321805976497e-7,1.29198270896474e-6,1.29198270896474e-6,1.50731316045887e-6,6.45991354482372e-7,8.61321805976497e-7,8.61321805976497e-7,8.61321805976497e-7,4.30660902988248e-7,0,0,2.15330451494124e-7,6.45991354482372e-7,2.15330451494124e-7,8.61321805976497e-7,2.15330451494124e-7,1.29198270896474e-6],\"fOption\":\"\",\"fFunctions\":{\"_typename\":\"TList\",\"name\":\"TList\",\"arr\":[],\"opt\":[]},\"fBufferSize\":0,\"fBuffer\":[],\"fBinStatErrOpt\":0,\"fStatOverflows\":2,\"fArray\":[0.7935035,0,0,4.640371e-4,0,0,4.640371e-4,0,0,9.280742e-4,4.640371e-4,4.640371e-4,0,9.280742e-4,0,9.280742e-4,0.001856148,0,4.640371e-4,9.280742e-4,4.640371e-4,4.640371e-4,9.280742e-4,0.002320186,0.002320186,4.640371e-4,0.002320186,0.006032483,0.003712297,0.00324826,0.003712297,0.005568446,0.004176334,0.004176334,0.005104408,0.006032483,0.00649652,0.006960557,0.008352668,0.009744779,0.009744779,0.01438515,0.02134571,0.01902552,0.02598608,0.02969838,0.04037123,0.04176334,0.05661253,0.04733179,0.06635731,0.04083527,0.05011601,0.04176334,0.03944315,0.02691415,0.03016241,0.02320186,0.03062645,0.01763341,0.01716937,0.02366589,0.02134571,0.01484919,0.01160093,0.01716937,0.01067285,0.009280742,0.01067285,0.006960557,0.003712297,0.007424594,0.007424594,0.004176334,0.005104408,0.00649652,0.004640371,0.002320186,0.004176334,0.005104408,0.003712297,0.004176334,0.004640371,0.002784223,0.003712297,0.001856148,0.002784223,0.002784223,0.00324826,0.001392111,0.001856148,0.001856148,0.001856148,9.280742e-4,0,0,4.640371e-4,0.001392111,4.640371e-4,0.001856148,4.640371e-4,0.002784223]},{\"_typename\":\"TLegend\",\"fUniqueID\":0,\"fBits\":50331656,\"fLineColor\":1,\"fLineStyle\":1,\"fLineWidth\":1,\"fFillColor\":0,\"fFillStyle\":1001,\"fX1\":0.187499980442225,\"fY1\":0.0348375862464309,\"fX2\":0.937499991618096,\"fY2\":0.0522563796292066,\"fX1NDC\":0.15,\"fY1NDC\":0.5,\"fX2NDC\":0.35,\"fY2NDC\":0.7,\"fBorderSize\":0,\"fInit\":1,\"fShadowColor\":1,\"fCornerRadius\":0,\"fOption\":\"brNDC\",\"fName\":\"TPave\",\"fTextAngle\":0,\"fTextSize\":0,\"fTextAlign\":12,\"fTextColor\":1,\"fTextFont\":42,\"fPrimitives\":{\"_typename\":\"TList\",\"name\":\"TList\",\"arr\":[{\"_typename\":\"TLegendEntry\",\"fUniqueID\":0,\"fBits\":50331656,\"fTextAngle\":0,\"fTextSize\":0,\"fTextAlign\":0,\"fTextColor\":0,\"fTextFont\":42,\"fLineColor\":1,\"fLineStyle\":1,\"fLineWidth\":1,\"fFillColor\":0,\"fFillStyle\":0,\"fMarkerColor\":1,\"fMarkerStyle\":21,\"fMarkerSize\":1,\"fObject\":{\"$ref\":3},\"fLabel\":\"RS KK Gluon\",\"fOption\":\"l\"},{\"_typename\":\"TLegendEntry\",\"fUniqueID\":0,\"fBits\":50331656,\"fTextAngle\":0,\"fTextSize\":0,\"fTextAlign\":0,\"fTextColor\":0,\"fTextFont\":42,\"fLineColor\":2,\"fLineStyle\":1,\"fLineWidth\":1,\"fFillColor\":0,\"fFillStyle\":0,\"fMarkerColor\":1,\"fMarkerStyle\":21,\"fMarkerSize\":1,\"fObject\":{\"$ref\":14},\"fLabel\":\"QCD\",\"fOption\":\"l\"}],\"opt\":[\"l\",\"l\"]},\"fEntrySeparation\":0.1,\"fMargin\":0.25,\"fNColumns\":1,\"fColumnSeparation\":0},{\"_typename\":\"TPaveText\",\"fUniqueID\":0,\"fBits\":50331657,\"fLineColor\":1,\"fLineStyle\":1,\"fLineWidth\":1,\"fFillColor\":0,\"fFillStyle\":0,\"fX1\":1.03685344137444,\"fY1\":0.0728563174730314,\"fX2\":1.96314655862556,\"fY2\":0.0779491002840971,\"fX1NDC\":0.376494252873563,\"fY1NDC\":0.936525428497185,\"fX2NDC\":0.623505747126437,\"fY2NDC\":0.995000004768372,\"fBorderSize\":0,\"fInit\":1,\"fShadowColor\":1,\"fCornerRadius\":0,\"fOption\":\"blNDC\",\"fName\":\"title\",\"fTextAngle\":0,\"fTextSize\":0,\"fTextAlign\":22,\"fTextColor\":1,\"fTextFont\":42,\"fLabel\":\"\",\"fLongest\":12,\"fMargin\":0.05,\"fLines\":{\"_typename\":\"TList\",\"name\":\"TList\",\"arr\":[{\"_typename\":\"TLatex\",\"fUniqueID\":0,\"fBits\":50331648,\"fName\":\"\",\"fTitle\":\"AK8 N3_beta1\",\"fTextAngle\":0,\"fTextSize\":0,\"fTextAlign\":0,\"fTextColor\":0,\"fTextFont\":0,\"fX\":0,\"fY\":0,\"fLineColor\":1,\"fLineStyle\":1,\"fLineWidth\":2,\"fLimitFactorSize\":3,\"fOriginSize\":0.0497033894062042}],\"opt\":[\"\"]}}],\"opt\":[\"\",\"hist\",\"same hist\",\"\",\"blNDC\"]},\"fExecs\":null,\"fName\":\"c_n3\",\"fTitle\":\"c_n3\",\"fNumPaletteColor\":0,\"fNextPaletteColor\":0,\"fDISPLAY\":\"$DISPLAY\",\"fDoubleBuffer\":0,\"fRetained\":true,\"fXsizeUser\":0,\"fYsizeUser\":0,\"fXsizeReal\":20,\"fYsizeReal\":14.28571,\"fWindowTopX\":0,\"fWindowTopY\":0,\"fWindowWidth\":0,\"fWindowHeight\":0,\"fCw\":696,\"fCh\":472,\"fCatt\":{\"_typename\":\"TAttCanvas\",\"fXBetween\":2,\"fYBetween\":2,\"fTitleFromTop\":1.2,\"fXdate\":0.2,\"fYdate\":0.3,\"fAdate\":1},\"kMoveOpaque\":true,\"kResizeOpaque\":true,\"fHighLightColor\":2,\"fBatch\":true,\"kShowEventStatus\":false,\"kAutoExec\":true,\"kMenuBar\":true});\n",
       "       Core.draw(\"root_plot_40\", obj, \"\");\n",
       "     }\n",
       " );\n",
       "</script>\n"
      ],
      "text/plain": [
       "<IPython.core.display.HTML object>"
      ]
     },
     "metadata": {},
     "output_type": "display_data"
    }
   ],
   "source": [
    "import ROOT\n",
    "\n",
    "f1 = ROOT.TFile(\"$CMSSW_BASE/src/Analysis/JMEDAS/notebooks/files/rsgluon_ttbar_3TeV.root\")\n",
    "f2 = ROOT.TFile(\"$CMSSW_BASE/src/Analysis/JMEDAS/notebooks/files/QCD_Pt_300to470.root\")\n",
    "\n",
    "h_ak8_N3_beta1_1 = f1.Get(\"h_ak8_N3_beta1\")\n",
    "h_ak8_N3_beta1_2 = f2.Get(\"h_ak8_N3_beta1\")\n",
    "\n",
    "h_ak8_N3_beta1_1.SetLineColor(1)\n",
    "h_ak8_N3_beta1_2.SetLineColor(2)\n",
    "\n",
    "leg = ROOT.TLegend(0.15, 0.5, 0.35, 0.7)\n",
    "leg.SetFillColor(0)\n",
    "leg.SetBorderSize(0)\n",
    "leg.AddEntry( h_ak8_N3_beta1_1, \"RS KK Gluon\", 'l')\n",
    "leg.AddEntry( h_ak8_N3_beta1_2, \"QCD\", 'l')\n",
    "\n",
    "h_ak8_N3_beta1_1.Sumw2()\n",
    "h_ak8_N3_beta1_1.Scale(1.0 / h_ak8_N3_beta1_1.Integral())\n",
    "h_ak8_N3_beta1_2.Sumw2()\n",
    "h_ak8_N3_beta1_2.Scale(1.0 / h_ak8_N3_beta1_2.Integral())\n",
    "\n",
    "c_n3 = ROOT.TCanvas('c_n3', 'c_n3') \n",
    "h_ak8_N3_beta1_1.GetYaxis().SetRangeUser(0., max([h_ak8_N3_beta1_1.GetMaximum(), h_ak8_N3_beta1_2.GetMaximum()]) * 1.05)\n",
    "h_ak8_N3_beta1_1    .Draw(\"hist\")\n",
    "h_ak8_N3_beta1_2    .Draw(\"same hist\")\n",
    "leg.Draw()\n",
    "c_n3.Draw()"
   ]
  },
  {
   "cell_type": "markdown",
   "metadata": {},
   "source": [
    "# Quiz\n",
    "\n",
    "* What cut would you apply to select boosted top quarks?\n",
    "* For both the W and top selections, what other variable(s) could we cut on in addition?"
   ]
  },
  {
   "cell_type": "markdown",
   "metadata": {},
   "source": [
    "# Jet Mass\n",
    "\n",
    "We can also use jet mass to distinguish our boosted W and top jets from QCD. Let's compare the AK8 jet mass of the boosted top quarks from the RS KK sample and the jets from the QCD sample. Let's also look at the ungroomed jet mass (labeled as CHS) and the softdrop groomed jet mass combined with the PUPPI pileup subtraction algorithm.\n",
    "<details>\n",
    "<summary>\n",
    "    <font color='blue'>Show answer...</font>\n",
    "</summary>\n",
    "The plot should look like this:\n",
    "\n",
    "<img src=\"../files/ak8jetmass_topvqcd.png\" width=400px/>\n",
    "</details>"
   ]
  },
  {
   "cell_type": "code",
   "execution_count": 53,
   "metadata": {},
   "outputs": [
    {
     "data": {
      "text/html": [
       "\n",
       "<div id=\"root_plot_41\"\n",
       "     style=\"width: 696px; height: 472px\">\n",
       "</div>\n",
       "\n",
       "<script>\n",
       " requirejs.config({\n",
       "     paths: {\n",
       "       'JSRootCore' : 'https://root.cern.ch/js/notebook//scripts/JSRootCore',\n",
       "     }\n",
       "   });\n",
       " require(['JSRootCore'],\n",
       "     function(Core) {\n",
       "       var obj = Core.JSONR_unref({\"_typename\":\"TCanvas\",\"fUniqueID\":0,\"fBits\":53673992,\"fLineColor\":1,\"fLineStyle\":1,\"fLineWidth\":1,\"fFillColor\":0,\"fFillStyle\":1001,\"fLeftMargin\":0.1,\"fRightMargin\":0.1,\"fBottomMargin\":0.1,\"fTopMargin\":0.1,\"fXfile\":2,\"fYfile\":2,\"fAfile\":1,\"fXstat\":0.99,\"fYstat\":0.99,\"fAstat\":2,\"fFrameFillColor\":0,\"fFrameLineColor\":1,\"fFrameFillStyle\":1001,\"fFrameLineStyle\":1,\"fFrameLineWidth\":1,\"fFrameBorderSize\":1,\"fFrameBorderMode\":0,\"fX1\":-50.0000037252905,\"fY1\":-0.0617147053938139,\"fX2\":450.000003725291,\"fY2\":0.555432311759495,\"fXtoAbsPixelk\":69.6000541484835,\"fXtoPixelk\":69.6000541484835,\"fXtoPixel\":1.39199997925758,\"fYtoAbsPixelk\":424.800047186661,\"fYtoPixelk\":424.800047186661,\"fYtoPixel\":-764.809659418233,\"fUtoAbsPixelk\":5e-5,\"fUtoPixelk\":5e-5,\"fUtoPixel\":696,\"fVtoAbsPixelk\":472.00005,\"fVtoPixelk\":472,\"fVtoPixel\":-472,\"fAbsPixeltoXk\":-50.0000037252905,\"fPixeltoXk\":-50.0000037252905,\"fPixeltoX\":0.718390815302559,\"fAbsPixeltoYk\":0.555432311759495,\"fPixeltoYk\":-0.0617147053938139,\"fPixeltoY\":-0.00130751486685023,\"fXlowNDC\":0,\"fYlowNDC\":0,\"fXUpNDC\":0,\"fYUpNDC\":0,\"fWNDC\":1,\"fHNDC\":1,\"fAbsXlowNDC\":0,\"fAbsYlowNDC\":0,\"fAbsWNDC\":1,\"fAbsHNDC\":1,\"fUxmin\":0,\"fUymin\":0,\"fUxmax\":400,\"fUymax\":0.493717606365681,\"fTheta\":30,\"fPhi\":30,\"fAspectRatio\":0,\"fNumber\":0,\"fTickx\":0,\"fTicky\":0,\"fLogx\":0,\"fLogy\":0,\"fLogz\":0,\"fPadPaint\":0,\"fCrosshair\":0,\"fCrosshairPos\":0,\"fBorderSize\":2,\"fBorderMode\":0,\"fModified\":false,\"fGridx\":false,\"fGridy\":false,\"fAbsCoord\":false,\"fEditable\":true,\"fFixedAspectRatio\":false,\"fPrimitives\":{\"_typename\":\"TList\",\"name\":\"TList\",\"arr\":[{\"_typename\":\"TFrame\",\"fUniqueID\":0,\"fBits\":50331656,\"fLineColor\":1,\"fLineStyle\":1,\"fLineWidth\":1,\"fFillColor\":0,\"fFillStyle\":1001,\"fX1\":0,\"fY1\":0,\"fX2\":400,\"fY2\":0.493717606365681,\"fBorderSize\":1,\"fBorderMode\":0},{\"_typename\":\"TH1F\",\"fUniqueID\":0,\"fBits\":50331656,\"fName\":\"h_mAK8\",\"fTitle\":\"AK8 Jet Mass\",\"fLineColor\":1,\"fLineStyle\":1,\"fLineWidth\":1,\"fFillColor\":0,\"fFillStyle\":1001,\"fMarkerColor\":1,\"fMarkerStyle\":1,\"fMarkerSize\":1,\"fNcells\":102,\"fXaxis\":{\"_typename\":\"TAxis\",\"fUniqueID\":0,\"fBits\":50333704,\"fName\":\"xaxis\",\"fTitle\":\"Mass (GeV)\",\"fNdivisions\":510,\"fAxisColor\":1,\"fLabelColor\":1,\"fLabelFont\":42,\"fLabelOffset\":0.005,\"fLabelSize\":0.035,\"fTickLength\":0.03,\"fTitleOffset\":1,\"fTitleSize\":0.035,\"fTitleColor\":1,\"fTitleFont\":42,\"fNbins\":100,\"fXmin\":0,\"fXmax\":1000,\"fXbins\":[],\"fFirst\":1,\"fLast\":40,\"fBits2\":0,\"fTimeDisplay\":false,\"fTimeFormat\":\"\",\"fLabels\":null,\"fModLabs\":null},\"fYaxis\":{\"_typename\":\"TAxis\",\"fUniqueID\":0,\"fBits\":50331656,\"fName\":\"yaxis\",\"fTitle\":\"\",\"fNdivisions\":510,\"fAxisColor\":1,\"fLabelColor\":1,\"fLabelFont\":42,\"fLabelOffset\":0.005,\"fLabelSize\":0.035,\"fTickLength\":0.03,\"fTitleOffset\":0,\"fTitleSize\":0.035,\"fTitleColor\":1,\"fTitleFont\":42,\"fNbins\":1,\"fXmin\":0,\"fXmax\":1,\"fXbins\":[],\"fFirst\":0,\"fLast\":0,\"fBits2\":0,\"fTimeDisplay\":false,\"fTimeFormat\":\"\",\"fLabels\":null,\"fModLabs\":null},\"fZaxis\":{\"_typename\":\"TAxis\",\"fUniqueID\":0,\"fBits\":50331648,\"fName\":\"zaxis\",\"fTitle\":\"\",\"fNdivisions\":510,\"fAxisColor\":1,\"fLabelColor\":1,\"fLabelFont\":42,\"fLabelOffset\":0.005,\"fLabelSize\":0.035,\"fTickLength\":0.03,\"fTitleOffset\":1,\"fTitleSize\":0.035,\"fTitleColor\":1,\"fTitleFont\":42,\"fNbins\":1,\"fXmin\":0,\"fXmax\":1,\"fXbins\":[],\"fFirst\":0,\"fLast\":0,\"fBits2\":0,\"fTimeDisplay\":false,\"fTimeFormat\":\"\",\"fLabels\":null,\"fModLabs\":null},\"fBarOffset\":0,\"fBarWidth\":1000,\"fEntries\":3164,\"fTsumw\":3163,\"fTsumw2\":3163,\"fTsumwx\":487527.006578445,\"fTsumwx2\":90735914.2077413,\"fMaximum\":0.493717606365681,\"fMinimum\":0,\"fNormFactor\":0,\"fContour\":[],\"fSumw2\":[9.99543308662272e-8,0,0,1.99908661732454e-7,1.69922362472586e-6,8.29620946189686e-6,1.14947480496161e-5,1.32939260052082e-5,1.29940630126095e-5,1.55928756151314e-5,1.7591962232456e-5,1.56928299459977e-5,1.80917338867871e-5,1.49931496299341e-5,1.38936519904056e-5,1.22943826965459e-5,1.27941543508771e-5,1.33938803360744e-5,1.73920535707235e-5,1.79917795559209e-5,2.24897244449011e-5,1.63925102620613e-5,1.50931039608003e-5,1.05951590718201e-5,8.59607245449554e-6,3.59835591118418e-6,4.19808189638154e-6,2.79872126425436e-6,2.79872126425436e-6,2.09904094819077e-6,1.89913228645832e-6,9.99543308662272e-7,5.99725985197363e-7,4.99771654331136e-7,6.99680316063591e-7,6.99680316063591e-7,6.99680316063591e-7,1.99908661732454e-7,2.99862992598682e-7,2.99862992598682e-7,7.99634646929818e-7,2.99862992598682e-7,1.99908661732454e-7,1.99908661732454e-7,2.99862992598682e-7,1.99908661732454e-7,0,1.99908661732454e-7,1.99908661732454e-7,9.99543308662272e-8,9.99543308662272e-8,0,0,0,9.99543308662272e-8,0,0,0,9.99543308662272e-8,0,0,0,0,0,9.99543308662272e-8,0,0,0,0,0,0,0,0,0,0,0,0,0,0,0,0,0,0,0,0,0,0,0,0,0,0,0,0,0,0,0,0,0,0,0,0,0],\"fOption\":\"\",\"fFunctions\":{\"_typename\":\"TList\",\"name\":\"TList\",\"arr\":[{\"_typename\":\"TPaveStats\",\"fUniqueID\":0,\"fBits\":50331657,\"fLineColor\":1,\"fLineStyle\":1,\"fLineWidth\":1,\"fFillColor\":0,\"fFillStyle\":1001,\"fX1\":340.00001013279,\"fY1\":0.416574236578483,\"fX2\":440.000013113022,\"fY2\":0.515317757115923,\"fX1NDC\":0.780000016093254,\"fY1NDC\":0.775000005960464,\"fX2NDC\":0.980000019073486,\"fY2NDC\":0.935000002384186,\"fBorderSize\":1,\"fInit\":1,\"fShadowColor\":1,\"fCornerRadius\":0,\"fOption\":\"brNDC\",\"fName\":\"stats\",\"fTextAngle\":0,\"fTextSize\":0,\"fTextAlign\":12,\"fTextColor\":1,\"fTextFont\":42,\"fLabel\":\"\",\"fLongest\":18,\"fMargin\":0.05,\"fLines\":{\"_typename\":\"TList\",\"name\":\"TList\",\"arr\":[{\"_typename\":\"TLatex\",\"fUniqueID\":0,\"fBits\":50331648,\"fName\":\"\",\"fTitle\":\"h_mAK8\",\"fTextAngle\":0,\"fTextSize\":0.0368,\"fTextAlign\":0,\"fTextColor\":0,\"fTextFont\":0,\"fX\":0,\"fY\":0,\"fLineColor\":1,\"fLineStyle\":1,\"fLineWidth\":2,\"fLimitFactorSize\":3,\"fOriginSize\":0.0368000008165836},{\"_typename\":\"TLatex\",\"fUniqueID\":0,\"fBits\":50331648,\"fName\":\"\",\"fTitle\":\"Entries = 3164   \",\"fTextAngle\":0,\"fTextSize\":0,\"fTextAlign\":0,\"fTextColor\":0,\"fTextFont\":0,\"fX\":0,\"fY\":0,\"fLineColor\":1,\"fLineStyle\":1,\"fLineWidth\":2,\"fLimitFactorSize\":3,\"fOriginSize\":0.04},{\"_typename\":\"TLatex\",\"fUniqueID\":0,\"fBits\":50331648,\"fName\":\"\",\"fTitle\":\"Mean  =    152\",\"fTextAngle\":0,\"fTextSize\":0,\"fTextAlign\":0,\"fTextColor\":0,\"fTextFont\":0,\"fX\":0,\"fY\":0,\"fLineColor\":1,\"fLineStyle\":1,\"fLineWidth\":2,\"fLimitFactorSize\":3,\"fOriginSize\":0.04},{\"_typename\":\"TLatex\",\"fUniqueID\":0,\"fBits\":50331648,\"fName\":\"\",\"fTitle\":\"Std Dev   =  65.65\",\"fTextAngle\":0,\"fTextSize\":0,\"fTextAlign\":0,\"fTextColor\":0,\"fTextFont\":0,\"fX\":0,\"fY\":0,\"fLineColor\":1,\"fLineStyle\":1,\"fLineWidth\":2,\"fLimitFactorSize\":3,\"fOriginSize\":0.04}],\"opt\":[\"\",\"\",\"\",\"\"]},\"fOptFit\":0,\"fOptStat\":1111,\"fFitFormat\":\"5.4g\",\"fStatFormat\":\"6.4g\",\"fParent\":{\"$ref\":3}}],\"opt\":[\"brNDC\"]},\"fBufferSize\":0,\"fBuffer\":[],\"fBinStatErrOpt\":0,\"fStatOverflows\":2,\"fArray\":[3.161556e-4,0,0,6.323111e-4,0.005374644,0.02624091,0.03635789,0.04204869,0.04110022,0.04932027,0.05564338,0.04963642,0.05722415,0.04742333,0.04394562,0.03888713,0.04046791,0.04236484,0.05501106,0.056908,0.071135,0.05184951,0.04773949,0.03351249,0.02718938,0.0113816,0.01327853,0.008852355,0.008852355,0.006639266,0.006006956,0.003161555,0.001896933,0.001580778,0.002213089,0.002213089,0.002213089,6.323111e-4,9.484667e-4,9.484667e-4,0.002529244,9.484667e-4,6.323111e-4,6.323111e-4,9.484667e-4,6.323111e-4,0,6.323111e-4,6.323111e-4,3.161556e-4,3.161556e-4,0,0,0,3.161556e-4,0,0,0,3.161556e-4,0,0,0,0,0,3.161556e-4,0,0,0,0,0,0,0,0,0,0,0,0,0,0,0,0,0,0,0,0,0,0,0,0,0,0,0,0,0,0,0,0,0,0,0,0,0]},{\"_typename\":\"TH1F\",\"fUniqueID\":0,\"fBits\":50331656,\"fName\":\"h_mAK8\",\"fTitle\":\"AK8 Jet Mass\",\"fLineColor\":2,\"fLineStyle\":1,\"fLineWidth\":1,\"fFillColor\":0,\"fFillStyle\":1001,\"fMarkerColor\":1,\"fMarkerStyle\":1,\"fMarkerSize\":1,\"fNcells\":102,\"fXaxis\":{\"_typename\":\"TAxis\",\"fUniqueID\":0,\"fBits\":50331648,\"fName\":\"xaxis\",\"fTitle\":\"Mass (GeV)\",\"fNdivisions\":510,\"fAxisColor\":1,\"fLabelColor\":1,\"fLabelFont\":42,\"fLabelOffset\":0.005,\"fLabelSize\":0.035,\"fTickLength\":0.03,\"fTitleOffset\":1,\"fTitleSize\":0.035,\"fTitleColor\":1,\"fTitleFont\":42,\"fNbins\":100,\"fXmin\":0,\"fXmax\":1000,\"fXbins\":[],\"fFirst\":0,\"fLast\":0,\"fBits2\":0,\"fTimeDisplay\":false,\"fTimeFormat\":\"\",\"fLabels\":null,\"fModLabs\":null},\"fYaxis\":{\"_typename\":\"TAxis\",\"fUniqueID\":0,\"fBits\":50331648,\"fName\":\"yaxis\",\"fTitle\":\"\",\"fNdivisions\":510,\"fAxisColor\":1,\"fLabelColor\":1,\"fLabelFont\":42,\"fLabelOffset\":0.005,\"fLabelSize\":0.035,\"fTickLength\":0.03,\"fTitleOffset\":0,\"fTitleSize\":0.035,\"fTitleColor\":1,\"fTitleFont\":42,\"fNbins\":1,\"fXmin\":0,\"fXmax\":1,\"fXbins\":[],\"fFirst\":0,\"fLast\":0,\"fBits2\":0,\"fTimeDisplay\":false,\"fTimeFormat\":\"\",\"fLabels\":null,\"fModLabs\":null},\"fZaxis\":{\"_typename\":\"TAxis\",\"fUniqueID\":0,\"fBits\":50331648,\"fName\":\"zaxis\",\"fTitle\":\"\",\"fNdivisions\":510,\"fAxisColor\":1,\"fLabelColor\":1,\"fLabelFont\":42,\"fLabelOffset\":0.005,\"fLabelSize\":0.035,\"fTickLength\":0.03,\"fTitleOffset\":1,\"fTitleSize\":0.035,\"fTitleColor\":1,\"fTitleFont\":42,\"fNbins\":1,\"fXmin\":0,\"fXmax\":1,\"fXbins\":[],\"fFirst\":0,\"fLast\":0,\"fBits2\":0,\"fTimeDisplay\":false,\"fTimeFormat\":\"\",\"fLabels\":null,\"fModLabs\":null},\"fBarOffset\":0,\"fBarWidth\":1000,\"fEntries\":3871,\"fTsumw\":3871,\"fTsumw2\":3871,\"fTsumwx\":308780.32060051,\"fTsumwx2\":27014478.941506,\"fMaximum\":-1111,\"fMinimum\":-1111,\"fNormFactor\":0,\"fContour\":[],\"fSumw2\":[0,0,0,1.33469997712992e-7,2.26898996112086e-6,1.32802647724427e-5,3.37011744225304e-5,5.31210590897706e-5,5.09855391263628e-5,3.73715993596376e-5,2.49588895723294e-5,1.561598973242e-5,8.67554985134445e-6,6.94043988107556e-6,4.13756992910274e-6,2.26898996112086e-6,1.40143497598641e-6,1.26796497827342e-6,7.34084987421454e-7,8.0081998627795e-7,4.67144991995471e-7,0,6.67349988564958e-8,6.67349988564958e-8,0,0,0,6.67349988564958e-8,0,0,0,0,0,0,0,0,0,0,0,0,0,0,0,0,0,0,0,0,0,0,0,0,0,0,0,0,0,0,0,0,0,0,0,0,0,0,0,0,0,0,0,0,0,0,0,0,0,0,0,0,0,0,0,0,0,0,0,0,0,0,0,0,0,0,0,0,0,0,0,0,0,0],\"fOption\":\"\",\"fFunctions\":{\"_typename\":\"TList\",\"name\":\"TList\",\"arr\":[],\"opt\":[]},\"fBufferSize\":0,\"fBuffer\":[],\"fBinStatErrOpt\":0,\"fStatOverflows\":2,\"fArray\":[0,0,0,5.166624e-4,0.00878326,0.0514079,0.1304573,0.2056316,0.197365,0.1446655,0.09661586,0.0604495,0.03358305,0.02686644,0.01601653,0.00878326,0.005424955,0.004908293,0.002841643,0.003099974,0.001808318,0,2.583312e-4,2.583312e-4,0,0,0,2.583312e-4,0,0,0,0,0,0,0,0,0,0,0,0,0,0,0,0,0,0,0,0,0,0,0,0,0,0,0,0,0,0,0,0,0,0,0,0,0,0,0,0,0,0,0,0,0,0,0,0,0,0,0,0,0,0,0,0,0,0,0,0,0,0,0,0,0,0,0,0,0,0,0,0,0,0]},{\"_typename\":\"TH1F\",\"fUniqueID\":0,\"fBits\":50331656,\"fName\":\"h_mSDpuppiAK8\",\"fTitle\":\"AK8 PUPPI SD Jet Mass\",\"fLineColor\":3,\"fLineStyle\":1,\"fLineWidth\":1,\"fFillColor\":0,\"fFillStyle\":1001,\"fMarkerColor\":1,\"fMarkerStyle\":1,\"fMarkerSize\":1,\"fNcells\":102,\"fXaxis\":{\"_typename\":\"TAxis\",\"fUniqueID\":0,\"fBits\":50331648,\"fName\":\"xaxis\",\"fTitle\":\"Mass (GeV)\",\"fNdivisions\":510,\"fAxisColor\":1,\"fLabelColor\":1,\"fLabelFont\":42,\"fLabelOffset\":0.005,\"fLabelSize\":0.035,\"fTickLength\":0.03,\"fTitleOffset\":1,\"fTitleSize\":0.035,\"fTitleColor\":1,\"fTitleFont\":42,\"fNbins\":100,\"fXmin\":0,\"fXmax\":1000,\"fXbins\":[],\"fFirst\":0,\"fLast\":0,\"fBits2\":0,\"fTimeDisplay\":false,\"fTimeFormat\":\"\",\"fLabels\":null,\"fModLabs\":null},\"fYaxis\":{\"_typename\":\"TAxis\",\"fUniqueID\":0,\"fBits\":50331648,\"fName\":\"yaxis\",\"fTitle\":\"\",\"fNdivisions\":510,\"fAxisColor\":1,\"fLabelColor\":1,\"fLabelFont\":42,\"fLabelOffset\":0.005,\"fLabelSize\":0.035,\"fTickLength\":0.03,\"fTitleOffset\":0,\"fTitleSize\":0.035,\"fTitleColor\":1,\"fTitleFont\":42,\"fNbins\":1,\"fXmin\":0,\"fXmax\":1,\"fXbins\":[],\"fFirst\":0,\"fLast\":0,\"fBits2\":0,\"fTimeDisplay\":false,\"fTimeFormat\":\"\",\"fLabels\":null,\"fModLabs\":null},\"fZaxis\":{\"_typename\":\"TAxis\",\"fUniqueID\":0,\"fBits\":50331648,\"fName\":\"zaxis\",\"fTitle\":\"\",\"fNdivisions\":510,\"fAxisColor\":1,\"fLabelColor\":1,\"fLabelFont\":42,\"fLabelOffset\":0.005,\"fLabelSize\":0.035,\"fTickLength\":0.03,\"fTitleOffset\":1,\"fTitleSize\":0.035,\"fTitleColor\":1,\"fTitleFont\":42,\"fNbins\":1,\"fXmin\":0,\"fXmax\":1,\"fXbins\":[],\"fFirst\":0,\"fLast\":0,\"fBits2\":0,\"fTimeDisplay\":false,\"fTimeFormat\":\"\",\"fLabels\":null,\"fModLabs\":null},\"fBarOffset\":0,\"fBarWidth\":1000,\"fEntries\":3164,\"fTsumw\":3154,\"fTsumw2\":3154,\"fTsumwx\":310982.402344261,\"fTsumwx2\":45053306.0563046,\"fMaximum\":-1111,\"fMinimum\":-1111,\"fNormFactor\":0,\"fContour\":[],\"fSumw2\":[1.00525587984217e-6,3.98081328417498e-5,1.14599170302007e-5,7.33836792284782e-6,7.43889351083203e-6,9.85150762245323e-6,1.12588658542323e-5,2.00045920088591e-5,2.52319225840384e-5,1.97030152449065e-5,1.62851452534431e-5,1.48777870216641e-5,1.44756846697272e-5,1.45762102577114e-5,1.61846196654589e-5,2.00045920088591e-5,2.12108990646697e-5,1.77930290732064e-5,9.85150762245323e-6,3.51839557944758e-6,2.51313969960542e-6,2.01051175968433e-6,1.10578146782638e-6,1.10578146782638e-6,1.30683264379482e-6,6.031535279053e-7,1.10578146782638e-6,6.031535279053e-7,4.02102351936867e-7,5.02627939921083e-7,4.02102351936867e-7,7.03679115889517e-7,6.031535279053e-7,2.01051175968433e-7,4.02102351936867e-7,3.0157676395265e-7,4.02102351936867e-7,5.02627939921083e-7,3.0157676395265e-7,1.00525587984217e-7,2.01051175968433e-7,0,1.00525587984217e-7,2.01051175968433e-7,2.01051175968433e-7,0,0,0,0,1.00525587984217e-7,0,0,0,1.00525587984217e-7,0,0,0,0,0,0,1.00525587984217e-7,0,0,0,0,0,0,0,0,0,0,0,0,0,0,0,0,0,0,0,0,0,0,0,0,0,0,0,0,0,0,0,0,0,0,0,0,0,0,0,0,0],\"fOption\":\"\",\"fFunctions\":{\"_typename\":\"TList\",\"name\":\"TList\",\"arr\":[],\"opt\":[]},\"fBufferSize\":0,\"fBuffer\":[],\"fBinStatErrOpt\":0,\"fStatOverflows\":2,\"fArray\":[0.003170577,0.1255548,0.03614458,0.02314521,0.02346227,0.03107166,0.03551046,0.06309448,0.07958148,0.06214331,0.05136335,0.04692454,0.04565631,0.04597337,0.05104629,0.06309448,0.06689917,0.05611921,0.03107166,0.01109702,0.007926443,0.006341154,0.003487635,0.003487635,0.00412175,0.001902346,0.003487635,0.001902346,0.001268231,0.001585289,0.001268231,0.002219404,0.001902346,6.341154e-4,0.001268231,9.511731e-4,0.001268231,0.001585289,9.511731e-4,3.170577e-4,6.341154e-4,0,3.170577e-4,6.341154e-4,6.341154e-4,0,0,0,0,3.170577e-4,0,0,0,3.170577e-4,0,0,0,0,0,0,3.170577e-4,0,0,0,0,0,0,0,0,0,0,0,0,0,0,0,0,0,0,0,0,0,0,0,0,0,0,0,0,0,0,0,0,0,0,0,0,0,0,0,0,0]},{\"_typename\":\"TH1F\",\"fUniqueID\":0,\"fBits\":50331656,\"fName\":\"h_mSDpuppiAK8\",\"fTitle\":\"AK8 PUPPI SD Jet Mass\",\"fLineColor\":4,\"fLineStyle\":1,\"fLineWidth\":1,\"fFillColor\":0,\"fFillStyle\":1001,\"fMarkerColor\":1,\"fMarkerStyle\":1,\"fMarkerSize\":1,\"fNcells\":102,\"fXaxis\":{\"_typename\":\"TAxis\",\"fUniqueID\":0,\"fBits\":50331648,\"fName\":\"xaxis\",\"fTitle\":\"Mass (GeV)\",\"fNdivisions\":510,\"fAxisColor\":1,\"fLabelColor\":1,\"fLabelFont\":42,\"fLabelOffset\":0.005,\"fLabelSize\":0.035,\"fTickLength\":0.03,\"fTitleOffset\":1,\"fTitleSize\":0.035,\"fTitleColor\":1,\"fTitleFont\":42,\"fNbins\":100,\"fXmin\":0,\"fXmax\":1000,\"fXbins\":[],\"fFirst\":0,\"fLast\":0,\"fBits2\":0,\"fTimeDisplay\":false,\"fTimeFormat\":\"\",\"fLabels\":null,\"fModLabs\":null},\"fYaxis\":{\"_typename\":\"TAxis\",\"fUniqueID\":0,\"fBits\":50331648,\"fName\":\"yaxis\",\"fTitle\":\"\",\"fNdivisions\":510,\"fAxisColor\":1,\"fLabelColor\":1,\"fLabelFont\":42,\"fLabelOffset\":0.005,\"fLabelSize\":0.035,\"fTickLength\":0.03,\"fTitleOffset\":0,\"fTitleSize\":0.035,\"fTitleColor\":1,\"fTitleFont\":42,\"fNbins\":1,\"fXmin\":0,\"fXmax\":1,\"fXbins\":[],\"fFirst\":0,\"fLast\":0,\"fBits2\":0,\"fTimeDisplay\":false,\"fTimeFormat\":\"\",\"fLabels\":null,\"fModLabs\":null},\"fZaxis\":{\"_typename\":\"TAxis\",\"fUniqueID\":0,\"fBits\":50331648,\"fName\":\"zaxis\",\"fTitle\":\"\",\"fNdivisions\":510,\"fAxisColor\":1,\"fLabelColor\":1,\"fLabelFont\":42,\"fLabelOffset\":0.005,\"fLabelSize\":0.035,\"fTickLength\":0.03,\"fTitleOffset\":1,\"fTitleSize\":0.035,\"fTitleColor\":1,\"fTitleFont\":42,\"fNbins\":1,\"fXmin\":0,\"fXmax\":1,\"fXbins\":[],\"fFirst\":0,\"fLast\":0,\"fBits2\":0,\"fTimeDisplay\":false,\"fTimeFormat\":\"\",\"fLabels\":null,\"fModLabs\":null},\"fBarOffset\":0,\"fBarWidth\":1000,\"fEntries\":3871,\"fTsumw\":3860,\"fTsumw2\":3860,\"fTsumwx\":107950.549787188,\"fTsumwx2\":7399217.76106599,\"fMaximum\":-1111,\"fMinimum\":-1111,\"fNormFactor\":0,\"fContour\":[],\"fSumw2\":[7.38274853016188e-7,1.21815350747671e-4,3.00008053907487e-5,2.29536363392306e-5,1.67118580364574e-5,1.24835566055465e-5,1.05371956294129e-5,1.03358479422266e-5,9.12776181910924e-6,6.77870546860318e-6,5.23503986684206e-6,4.42964911809713e-6,3.08733120352224e-6,1.74501328894735e-6,1.47654970603238e-6,7.38274853016188e-7,8.05390748744933e-7,4.02695374372466e-7,2.01347687186233e-7,0,0,1.34231791457489e-7,0,0,6.71158957287444e-8,0,0,0,0,0,0,0,0,0,0,0,0,0,0,0,0,0,0,0,0,0,0,0,0,0,0,0,0,0,0,0,0,0,0,0,0,0,0,0,0,0,0,0,0,0,0,0,0,0,0,0,0,0,0,0,0,0,0,0,0,0,0,0,0,0,0,0,0,0,0,0,0,0,0,0,0,0],\"fOption\":\"\",\"fFunctions\":{\"_typename\":\"TList\",\"name\":\"TList\",\"arr\":[],\"opt\":[]},\"fBufferSize\":0,\"fBuffer\":[],\"fBinStatErrOpt\":0,\"fStatOverflows\":2,\"fArray\":[0.002849741,0.4702072,0.1158031,0.08860104,0.06450778,0.04818653,0.04067358,0.03989637,0.03523316,0.0261658,0.02020725,0.01709845,0.0119171,0.006735751,0.005699482,0.002849741,0.003108808,0.001554404,7.772021e-4,0,0,5.181347e-4,0,0,2.590674e-4,0,0,0,0,0,0,0,0,0,0,0,0,0,0,0,0,0,0,0,0,0,0,0,0,0,0,0,0,0,0,0,0,0,0,0,0,0,0,0,0,0,0,0,0,0,0,0,0,0,0,0,0,0,0,0,0,0,0,0,0,0,0,0,0,0,0,0,0,0,0,0,0,0,0,0,0,0]},{\"_typename\":\"TLegend\",\"fUniqueID\":0,\"fBits\":50331656,\"fLineColor\":1,\"fLineStyle\":1,\"fLineWidth\":1,\"fFillColor\":0,\"fFillStyle\":1001,\"fX1\":200,\"fY1\":0.24685880318284,\"fX2\":300.000001490116,\"fY2\":0.432002908328833,\"fX1NDC\":0.5,\"fY1NDC\":0.5,\"fX2NDC\":0.7,\"fY2NDC\":0.8,\"fBorderSize\":0,\"fInit\":1,\"fShadowColor\":1,\"fCornerRadius\":0,\"fOption\":\"brNDC\",\"fName\":\"TPave\",\"fTextAngle\":0,\"fTextSize\":0,\"fTextAlign\":12,\"fTextColor\":1,\"fTextFont\":42,\"fPrimitives\":{\"_typename\":\"TList\",\"name\":\"TList\",\"arr\":[{\"_typename\":\"TLegendEntry\",\"fUniqueID\":0,\"fBits\":50331656,\"fTextAngle\":0,\"fTextSize\":0,\"fTextAlign\":0,\"fTextColor\":0,\"fTextFont\":42,\"fLineColor\":1,\"fLineStyle\":1,\"fLineWidth\":1,\"fFillColor\":0,\"fFillStyle\":0,\"fMarkerColor\":1,\"fMarkerStyle\":21,\"fMarkerSize\":1,\"fObject\":{\"$ref\":3},\"fLabel\":\"AK8 Jet Mass\",\"fOption\":\"\"},{\"_typename\":\"TLegendEntry\",\"fUniqueID\":0,\"fBits\":50331656,\"fTextAngle\":0,\"fTextSize\":0,\"fTextAlign\":0,\"fTextColor\":0,\"fTextFont\":42,\"fLineColor\":1,\"fLineStyle\":1,\"fLineWidth\":1,\"fFillColor\":0,\"fFillStyle\":0,\"fMarkerColor\":1,\"fMarkerStyle\":21,\"fMarkerSize\":1,\"fObject\":{\"$ref\":3},\"fLabel\":\"RS KK Gluon CHS\",\"fOption\":\"l\"},{\"_typename\":\"TLegendEntry\",\"fUniqueID\":0,\"fBits\":50331656,\"fTextAngle\":0,\"fTextSize\":0,\"fTextAlign\":0,\"fTextColor\":0,\"fTextFont\":42,\"fLineColor\":2,\"fLineStyle\":1,\"fLineWidth\":1,\"fFillColor\":0,\"fFillStyle\":0,\"fMarkerColor\":1,\"fMarkerStyle\":21,\"fMarkerSize\":1,\"fObject\":{\"$ref\":14},\"fLabel\":\"QCD CHS\",\"fOption\":\"l\"},{\"_typename\":\"TLegendEntry\",\"fUniqueID\":0,\"fBits\":50331656,\"fTextAngle\":0,\"fTextSize\":0,\"fTextAlign\":0,\"fTextColor\":0,\"fTextFont\":42,\"fLineColor\":3,\"fLineStyle\":1,\"fLineWidth\":1,\"fFillColor\":0,\"fFillStyle\":0,\"fMarkerColor\":1,\"fMarkerStyle\":21,\"fMarkerSize\":1,\"fObject\":{\"$ref\":19},\"fLabel\":\"RS KK Gluon SD+PUPPI\",\"fOption\":\"l\"},{\"_typename\":\"TLegendEntry\",\"fUniqueID\":0,\"fBits\":50331656,\"fTextAngle\":0,\"fTextSize\":0,\"fTextAlign\":0,\"fTextColor\":0,\"fTextFont\":42,\"fLineColor\":4,\"fLineStyle\":1,\"fLineWidth\":1,\"fFillColor\":0,\"fFillStyle\":0,\"fMarkerColor\":1,\"fMarkerStyle\":21,\"fMarkerSize\":1,\"fObject\":{\"$ref\":24},\"fLabel\":\"QCD SD+PUPPI\",\"fOption\":\"l\"}],\"opt\":[\"\",\"l\",\"l\",\"l\",\"l\"]},\"fEntrySeparation\":0.1,\"fMargin\":0.25,\"fNColumns\":1,\"fColumnSeparation\":0},{\"_typename\":\"TPaveText\",\"fUniqueID\":0,\"fBits\":50331657,\"fLineColor\":1,\"fLineStyle\":1,\"fLineWidth\":1,\"fFillColor\":0,\"fFillStyle\":0,\"fX1\":138.965516331895,\"fY1\":0.518403493167291,\"fX2\":261.034483668105,\"fY2\":0.552346579616514,\"fX1NDC\":0.377931034482759,\"fY1NDC\":0.940000003948808,\"fX2NDC\":0.622068965517241,\"fY2NDC\":0.995000004768372,\"fBorderSize\":0,\"fInit\":1,\"fShadowColor\":1,\"fCornerRadius\":0,\"fOption\":\"blNDC\",\"fName\":\"title\",\"fTextAngle\":0,\"fTextSize\":0,\"fTextAlign\":22,\"fTextColor\":1,\"fTextFont\":42,\"fLabel\":\"\",\"fLongest\":12,\"fMargin\":0.05,\"fLines\":{\"_typename\":\"TList\",\"name\":\"TList\",\"arr\":[{\"_typename\":\"TLatex\",\"fUniqueID\":0,\"fBits\":50331648,\"fName\":\"\",\"fTitle\":\"AK8 Jet Mass\",\"fTextAngle\":0,\"fTextSize\":0,\"fTextAlign\":0,\"fTextColor\":0,\"fTextFont\":0,\"fX\":0,\"fY\":0,\"fLineColor\":1,\"fLineStyle\":1,\"fLineWidth\":2,\"fLimitFactorSize\":3,\"fOriginSize\":0.0467500016093254}],\"opt\":[\"\"]}}],\"opt\":[\"\",\"hist\",\"same hist\",\"same hist\",\"same hist\",\"\",\"blNDC\"]},\"fExecs\":null,\"fName\":\"c_puppimass\",\"fTitle\":\"c_puppimass\",\"fNumPaletteColor\":0,\"fNextPaletteColor\":0,\"fDISPLAY\":\"$DISPLAY\",\"fDoubleBuffer\":0,\"fRetained\":true,\"fXsizeUser\":0,\"fYsizeUser\":0,\"fXsizeReal\":20,\"fYsizeReal\":14.28571,\"fWindowTopX\":0,\"fWindowTopY\":0,\"fWindowWidth\":0,\"fWindowHeight\":0,\"fCw\":696,\"fCh\":472,\"fCatt\":{\"_typename\":\"TAttCanvas\",\"fXBetween\":2,\"fYBetween\":2,\"fTitleFromTop\":1.2,\"fXdate\":0.2,\"fYdate\":0.3,\"fAdate\":1},\"kMoveOpaque\":true,\"kResizeOpaque\":true,\"fHighLightColor\":2,\"fBatch\":true,\"kShowEventStatus\":false,\"kAutoExec\":true,\"kMenuBar\":true});\n",
       "       Core.draw(\"root_plot_41\", obj, \"\");\n",
       "     }\n",
       " );\n",
       "</script>\n"
      ],
      "text/plain": [
       "<IPython.core.display.HTML object>"
      ]
     },
     "metadata": {},
     "output_type": "display_data"
    }
   ],
   "source": [
    "f1 = ROOT.TFile(\"$CMSSW_BASE/src/Analysis/JMEDAS/notebooks/files/rsgluon_ttbar_3TeV.root\")\n",
    "f2 = ROOT.TFile(\"$CMSSW_BASE/src/Analysis/JMEDAS/notebooks/files/QCD_Pt_300to470.root\")\n",
    "\n",
    "h_massAK8_1 = f1.Get(\"h_mAK8\")\n",
    "h_massAK8_2 = f2.Get(\"h_mAK8\")\n",
    "h_massAK8_3 = f1.Get(\"h_mSDpuppiAK8\")\n",
    "h_massAK8_4 = f2.Get(\"h_mSDpuppiAK8\")\n",
    "\n",
    "h_massAK8_1.SetLineColor(1)\n",
    "h_massAK8_2.SetLineColor(2)\n",
    "h_massAK8_3.SetLineColor(3)\n",
    "h_massAK8_4.SetLineColor(4)\n",
    "\n",
    "leg = ROOT.TLegend(0.5, 0.5, 0.7, 0.8)\n",
    "leg.SetFillColor(0)\n",
    "leg.SetBorderSize(0)\n",
    "leg.AddEntry( h_massAK8_1, \"\", \"\")\n",
    "leg.AddEntry( h_massAK8_1, \"RS KK Gluon CHS\", 'l')\n",
    "leg.AddEntry( h_massAK8_2, \"QCD CHS\", 'l')\n",
    "leg.AddEntry( h_massAK8_3, \"RS KK Gluon SD+PUPPI\", 'l')\n",
    "leg.AddEntry( h_massAK8_4, \"QCD SD+PUPPI\", 'l')\n",
    "\n",
    "h_massAK8_1.Sumw2()\n",
    "h_massAK8_1.Scale( 1.0 / h_massAK8_1.Integral() )\n",
    "h_massAK8_2.Sumw2()\n",
    "h_massAK8_2.Scale( 1.0 / h_massAK8_2.Integral() )\n",
    "h_massAK8_3.Sumw2()\n",
    "h_massAK8_3.Scale( 1.0 / h_massAK8_3.Integral() )\n",
    "h_massAK8_4.Sumw2()\n",
    "h_massAK8_4.Scale( 1.0 / h_massAK8_4.Integral() )\n",
    "\n",
    "c_puppimass = ROOT.TCanvas('c_puppimass', 'c_puppimass') \n",
    "h_massAK8_1.GetXaxis().SetRangeUser(0., 400.)\n",
    "h_massAK8_1.GetYaxis().SetRangeUser(0., max([h_massAK8_1.GetMaximum(), h_massAK8_2.GetMaximum(), h_massAK8_3.GetMaximum(), h_massAK8_4.GetMaximum()]) * 1.05)\n",
    "h_massAK8_1.Draw(\"hist\")\n",
    "h_massAK8_2.Draw(\"same hist\")\n",
    "h_massAK8_3.Draw(\"same hist\")\n",
    "h_massAK8_4.Draw(\"same hist\")\n",
    "\n",
    "\n",
    "leg.Draw()\n",
    "c_puppimass.Draw()"
   ]
  },
  {
   "cell_type": "markdown",
   "metadata": {},
   "source": [
    "# Quiz\n",
    "\n",
    "* Which does better at separating the QCD from both the top and W mass peaks - CHS or softdrop + PUPPI?"
   ]
  },
  {
   "cell_type": "markdown",
   "metadata": {},
   "source": [
    "# Go Further\n",
    "\n",
    "* You can learn more about jet grooming from the jet substructure exercise and PUPPI from the pileup mitigation exercise.\n",
    "* We briefly mentioned that you can combine variables for even better discrimination. In CMS, we do this to build our jet taggers. For the simple taggers, we often combine cuts on jet substructure variables and jet mass. The more sophisticated taggers, which are used more and more widely within CMS, use deep neural networks. To learn about building a machine learning tagger, check out the [machine learning short exercise](https://twiki.cern.ch/twiki/bin/view/CMS/SWGuideCMSDataAnalysisSchoolCERN2020MLShortExercise)."
   ]
  },
  {
   "cell_type": "code",
   "execution_count": null,
   "metadata": {},
   "outputs": [],
   "source": []
  }
 ],
 "metadata": {
  "kernelspec": {
   "display_name": "hats-jec",
   "language": "python",
   "name": "hats-jec"
  },
  "language_info": {
   "codemirror_mode": {
    "name": "ipython",
    "version": 2
   },
   "file_extension": ".py",
   "mimetype": "text/x-python",
   "name": "python",
   "nbconvert_exporter": "python",
   "pygments_lexer": "ipython2",
   "version": "2.7.15+"
  }
 },
 "nbformat": 4,
 "nbformat_minor": 2
}
